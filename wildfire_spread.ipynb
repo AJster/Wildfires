{
 "cells": [
  {
   "cell_type": "markdown",
   "id": "ad49ee4a-7c8e-4d0f-a40e-e84a0352df3f",
   "metadata": {},
   "source": [
    "'''code explanation\n",
    "\n",
    "all images that will be taken, before predicting will be rotated with the wind direction.\n",
    "so that the wind direction will be: ------------> from left to right.\n",
    "\n",
    "Pictures will be transformed to black and white, transforamtion will make fire and burnt area to black\n",
    "and green and not burnt to white.\n",
    "\n",
    "that's why if a black column is on the left side of the image and all the rest is white, \n",
    "the label will be 5, the maximum. and vice versa'''"
   ]
  },
  {
   "cell_type": "code",
   "execution_count": 1,
   "id": "807d2311-b360-4156-9aa8-ef9f8b8b6ddc",
   "metadata": {},
   "outputs": [
    {
     "name": "stdout",
     "output_type": "stream",
     "text": [
      "Requirement already satisfied: numpy==1.21.0 in /home/studio-lab-user/.conda/envs/default/lib/python3.9/site-packages (1.21.0)\n",
      "Note: you may need to restart the kernel to use updated packages.\n"
     ]
    }
   ],
   "source": [
    "pip install --upgrade numpy==1.21.0 "
   ]
  },
  {
   "cell_type": "code",
   "execution_count": 2,
   "id": "b32b6e67-fd35-4c1d-8283-0b43db5056ce",
   "metadata": {},
   "outputs": [
    {
     "name": "stdout",
     "output_type": "stream",
     "text": [
      "Requirement already satisfied: numba in /home/studio-lab-user/.conda/envs/default/lib/python3.9/site-packages (0.55.0)\n",
      "Requirement already satisfied: numpy<1.22,>=1.18 in /home/studio-lab-user/.conda/envs/default/lib/python3.9/site-packages (from numba) (1.21.0)\n",
      "Requirement already satisfied: llvmlite<0.39,>=0.38.0rc1 in /home/studio-lab-user/.conda/envs/default/lib/python3.9/site-packages (from numba) (0.38.0)\n",
      "Requirement already satisfied: setuptools in /home/studio-lab-user/.conda/envs/default/lib/python3.9/site-packages (from numba) (59.4.0)\n",
      "Note: you may need to restart the kernel to use updated packages.\n"
     ]
    }
   ],
   "source": [
    "pip install numba"
   ]
  },
  {
   "cell_type": "code",
   "execution_count": 3,
   "id": "ca1d0b4d-d9c4-4665-a934-a9b90e400114",
   "metadata": {
    "tags": []
   },
   "outputs": [
    {
     "name": "stdout",
     "output_type": "stream",
     "text": [
      "Requirement already satisfied: matplotlib in /home/studio-lab-user/.conda/envs/default/lib/python3.9/site-packages (3.5.1)\n",
      "Requirement already satisfied: python-dateutil>=2.7 in /home/studio-lab-user/.conda/envs/default/lib/python3.9/site-packages (from matplotlib) (2.8.2)\n",
      "Requirement already satisfied: pillow>=6.2.0 in /home/studio-lab-user/.conda/envs/default/lib/python3.9/site-packages (from matplotlib) (9.0.0)\n",
      "Requirement already satisfied: cycler>=0.10 in /home/studio-lab-user/.conda/envs/default/lib/python3.9/site-packages (from matplotlib) (0.11.0)\n",
      "Requirement already satisfied: packaging>=20.0 in /home/studio-lab-user/.conda/envs/default/lib/python3.9/site-packages (from matplotlib) (21.3)\n",
      "Requirement already satisfied: kiwisolver>=1.0.1 in /home/studio-lab-user/.conda/envs/default/lib/python3.9/site-packages (from matplotlib) (1.3.2)\n",
      "Requirement already satisfied: numpy>=1.17 in /home/studio-lab-user/.conda/envs/default/lib/python3.9/site-packages (from matplotlib) (1.21.0)\n",
      "Requirement already satisfied: fonttools>=4.22.0 in /home/studio-lab-user/.conda/envs/default/lib/python3.9/site-packages (from matplotlib) (4.28.5)\n",
      "Requirement already satisfied: pyparsing>=2.2.1 in /home/studio-lab-user/.conda/envs/default/lib/python3.9/site-packages (from matplotlib) (3.0.6)\n",
      "Requirement already satisfied: six>=1.5 in /home/studio-lab-user/.conda/envs/default/lib/python3.9/site-packages (from python-dateutil>=2.7->matplotlib) (1.16.0)\n",
      "Note: you may need to restart the kernel to use updated packages.\n"
     ]
    }
   ],
   "source": [
    "pip install matplotlib"
   ]
  },
  {
   "cell_type": "code",
   "execution_count": 4,
   "id": "452605d6-fdd4-44d0-9bd6-9f762482d1d4",
   "metadata": {},
   "outputs": [
    {
     "data": {
      "image/png": "[encoded data removed]",
      "text/plain": [
       "<Figure size 432x288 with 1 Axes>"
      ]
     },
     "metadata": {
      "needs_background": "light"
     },
     "output_type": "display_data"
    }
   ],
   "source": [
    "import numpy as np\n",
    "import matplotlib.pyplot as plt\n",
    "\n",
    "plt.gray()\n",
    "va= np.ones([4,4])\n",
    "plt.imshow(va, cmap='Greys_r', vmin= 0, vmax = 1)\n",
    "plt.show()"
   ]
  },
  {
   "cell_type": "code",
   "execution_count": 5,
   "id": "788c1504-151b-4c84-ad2f-d6ef89eb7e9c",
   "metadata": {},
   "outputs": [],
   "source": [
    "def draw_column_white(picture, start_column, width ):\n",
    "    width += 1\n",
    "    picture[: , np.r_[-1:start_column , width + start_column :picture.shape[0]]] = 0\n",
    "    return picture\n",
    "\n",
    "def draw_column_black(picture, start_column, width ):\n",
    "    picture[: , start_column:width + start_column] = 0\n",
    "    return picture"
   ]
  },
  {
   "cell_type": "code",
   "execution_count": 6,
   "id": "fd6aa664-b3c1-45a8-b522-fe56efa34bdc",
   "metadata": {},
   "outputs": [
    {
     "data": {
      "image/png": "[encoded data removed]",
      "text/plain": [
       "<Figure size 432x288 with 1 Axes>"
      ]
     },
     "metadata": {
      "needs_background": "light"
     },
     "output_type": "display_data"
    }
   ],
   "source": [
    "va = np.ones([128, 128])\n",
    "va = draw_column_black(va, 30, 10)\n",
    "plt.imshow(va)\n",
    "plt.show()"
   ]
  },
  {
   "cell_type": "code",
   "execution_count": 7,
   "id": "2e8e6f7d-6483-4303-ae6f-dc7ee5dd9a14",
   "metadata": {},
   "outputs": [
    {
     "name": "stdout",
     "output_type": "stream",
     "text": [
      "Requirement already satisfied: scikit-image in /home/studio-lab-user/.conda/envs/default/lib/python3.9/site-packages (0.19.1)\n",
      "Requirement already satisfied: pillow!=7.1.0,!=7.1.1,!=8.3.0,>=6.1.0 in /home/studio-lab-user/.conda/envs/default/lib/python3.9/site-packages (from scikit-image) (9.0.0)\n",
      "Requirement already satisfied: packaging>=20.0 in /home/studio-lab-user/.conda/envs/default/lib/python3.9/site-packages (from scikit-image) (21.3)\n",
      "Requirement already satisfied: PyWavelets>=1.1.1 in /home/studio-lab-user/.conda/envs/default/lib/python3.9/site-packages (from scikit-image) (1.2.0)\n",
      "Requirement already satisfied: networkx>=2.2 in /home/studio-lab-user/.conda/envs/default/lib/python3.9/site-packages (from scikit-image) (2.6.3)\n",
      "Requirement already satisfied: numpy>=1.17.0 in /home/studio-lab-user/.conda/envs/default/lib/python3.9/site-packages (from scikit-image) (1.21.0)\n",
      "Requirement already satisfied: tifffile>=2019.7.26 in /home/studio-lab-user/.conda/envs/default/lib/python3.9/site-packages (from scikit-image) (2021.11.2)\n",
      "Requirement already satisfied: scipy>=1.4.1 in /home/studio-lab-user/.conda/envs/default/lib/python3.9/site-packages (from scikit-image) (1.7.3)\n",
      "Requirement already satisfied: imageio>=2.4.1 in /home/studio-lab-user/.conda/envs/default/lib/python3.9/site-packages (from scikit-image) (2.14.1)\n",
      "Requirement already satisfied: pyparsing!=3.0.5,>=2.0.2 in /home/studio-lab-user/.conda/envs/default/lib/python3.9/site-packages (from packaging>=20.0->scikit-image) (3.0.6)\n",
      "Note: you may need to restart the kernel to use updated packages.\n"
     ]
    }
   ],
   "source": [
    "pip install scikit-image"
   ]
  },
  {
   "cell_type": "markdown",
   "id": "37036ceb-181f-4d8b-8eab-6e654605c1cc",
   "metadata": {},
   "source": [
    "Noise function for augmentaion"
   ]
  },
  {
   "cell_type": "code",
   "execution_count": 8,
   "id": "160eea1a-c295-41f7-9051-606d56a29893",
   "metadata": {},
   "outputs": [],
   "source": [
    "import random\n",
    "\n",
    "def sp_noise(image, prob):\n",
    "    '''\n",
    "    Add salt and pepper noise to image\n",
    "    prob: Probability of the noise\n",
    "    '''\n",
    "    output = image.copy()\n",
    "    if len(image.shape) == 2:\n",
    "        black = 0\n",
    "        white = 1            \n",
    "    else:\n",
    "        colorspace = image.shape[2]\n",
    "        if colorspace == 3:  # RGB\n",
    "            black = np.array([0, 0, 0], dtype='uint8')\n",
    "            white = np.array([255, 255, 255], dtype='uint8')\n",
    "        else:  # RGBA\n",
    "            black = np.array([0, 0, 0, 255], dtype='uint8')\n",
    "            white = np.array([255, 255, 255, 255], dtype='uint8')\n",
    "    probs = np.random.random(output.shape[:2])\n",
    "    output[probs < (prob / 2)] = black\n",
    "    #output[probs > 1 - (prob / 2)] = white\n",
    "    return output"
   ]
  },
  {
   "cell_type": "code",
   "execution_count": 9,
   "id": "d790b130-0715-494d-9d65-5f1dd2b55ffa",
   "metadata": {},
   "outputs": [
    {
     "data": {
      "image/png": "[encoded data removed]",
      "text/plain": [
       "<Figure size 432x288 with 1 Axes>"
      ]
     },
     "metadata": {
      "needs_background": "light"
     },
     "output_type": "display_data"
    }
   ],
   "source": [
    "va = np.ones([128, 128])\n",
    "v = sp_noise(va , 0.01) #+ va\n",
    "vv = draw_column_black(v, 30, 10)\n",
    "plt.imshow(vv)\n",
    "plt.show()"
   ]
  },
  {
   "cell_type": "markdown",
   "id": "01a1ff3d-7f82-4e93-b614-877f3a052c88",
   "metadata": {},
   "source": [
    "classes for creating data"
   ]
  },
  {
   "cell_type": "code",
   "execution_count": 10,
   "id": "28ebd185-aff5-411e-940a-2fe724f3fefc",
   "metadata": {},
   "outputs": [],
   "source": [
    "import numpy as np\n",
    "import pandas as pd\n",
    "import random\n",
    "\n",
    "class wf_putoff_sample:\n",
    "    def __init__(self, picture, Y):\n",
    "        self.picture = picture\n",
    "        self.Y = Y\n",
    "    \n",
    "    def to_df(self):\n",
    "        df = pd.DataFrame(self.picture.flatten(), self.Y)\n",
    "        return df\n",
    "    \n",
    "    \n",
    "\n",
    "class wf_putoff:\n",
    "    # empty 128 * 128:\n",
    "    def white_picture():\n",
    "        return np.ones([128,128])\n",
    "    \n",
    "    '''def white_picture128():\n",
    "        return np.ones([128,128])'''\n",
    "    \n",
    "    def draw_column_black(picture, start_column, width ):\n",
    "        picture[: ,start_column: start_column + width ] = 0\n",
    "        return picture\n",
    "    \n",
    "    def sp_noise(image, prob):\n",
    "        '''\n",
    "        Add salt and pepper noise to image\n",
    "        prob: Probability of the noise\n",
    "        '''\n",
    "        output = image.copy()\n",
    "        if len(image.shape) == 2:\n",
    "            black = 0\n",
    "            white = 1            \n",
    "        else:\n",
    "            colorspace = image.shape[2]\n",
    "            if colorspace == 3:  # RGB\n",
    "                black = np.array([0, 0, 0], dtype='uint8')\n",
    "                white = np.array([255, 255, 255], dtype='uint8')\n",
    "            else:  # RGBA\n",
    "                black = np.array([0, 0, 0, 255], dtype='uint8')\n",
    "                white = np.array([255, 255, 255, 255], dtype='uint8')\n",
    "        probs = np.random.random(output.shape[:2])\n",
    "        output[probs < (prob / 2)] = black\n",
    "        #output[probs > 1 - (prob / 2)] = white\n",
    "        return output\n",
    "    \n",
    "        \n",
    "    def augment(image,start_column, width ):\n",
    "        va =  sp_noise(image, 0.01)\n",
    "        return draw_column_black(va, start_column, width)"
   ]
  },
  {
   "cell_type": "code",
   "execution_count": 11,
   "id": "b4267937-8c38-4374-aff5-05015778ab4a",
   "metadata": {},
   "outputs": [
    {
     "data": {
      "text/html": [
       "<div>\n",
       "<style scoped>\n",
       "    .dataframe tbody tr th:only-of-type {\n",
       "        vertical-align: middle;\n",
       "    }\n",
       "\n",
       "    .dataframe tbody tr th {\n",
       "        vertical-align: top;\n",
       "    }\n",
       "\n",
       "    .dataframe thead th {\n",
       "        text-align: right;\n",
       "    }\n",
       "</style>\n",
       "<table border=\"1\" class=\"dataframe\">\n",
       "  <thead>\n",
       "    <tr style=\"text-align: right;\">\n",
       "      <th></th>\n",
       "      <th>picture</th>\n",
       "      <th>Y</th>\n",
       "    </tr>\n",
       "  </thead>\n",
       "  <tbody>\n",
       "    <tr>\n",
       "      <th>0</th>\n",
       "      <td>[[1.0, 1.0, 1.0, 1.0, 1.0, 1.0, 1.0, 1.0, 1.0,...</td>\n",
       "      <td>5</td>\n",
       "    </tr>\n",
       "    <tr>\n",
       "      <th>1</th>\n",
       "      <td>[[1.0, 1.0, 1.0, 1.0, 1.0, 1.0, 1.0, 1.0, 1.0,...</td>\n",
       "      <td>5</td>\n",
       "    </tr>\n",
       "    <tr>\n",
       "      <th>2</th>\n",
       "      <td>[[1.0, 1.0, 1.0, 1.0, 1.0, 0.0, 0.0, 0.0, 0.0,...</td>\n",
       "      <td>5</td>\n",
       "    </tr>\n",
       "    <tr>\n",
       "      <th>3</th>\n",
       "      <td>[[1.0, 1.0, 1.0, 1.0, 1.0, 1.0, 1.0, 1.0, 1.0,...</td>\n",
       "      <td>5</td>\n",
       "    </tr>\n",
       "    <tr>\n",
       "      <th>4</th>\n",
       "      <td>[[1.0, 1.0, 1.0, 1.0, 1.0, 1.0, 1.0, 1.0, 1.0,...</td>\n",
       "      <td>5</td>\n",
       "    </tr>\n",
       "  </tbody>\n",
       "</table>\n",
       "</div>"
      ],
      "text/plain": [
       "                                             picture  Y\n",
       "0  [[1.0, 1.0, 1.0, 1.0, 1.0, 1.0, 1.0, 1.0, 1.0,...  5\n",
       "1  [[1.0, 1.0, 1.0, 1.0, 1.0, 1.0, 1.0, 1.0, 1.0,...  5\n",
       "2  [[1.0, 1.0, 1.0, 1.0, 1.0, 0.0, 0.0, 0.0, 0.0,...  5\n",
       "3  [[1.0, 1.0, 1.0, 1.0, 1.0, 1.0, 1.0, 1.0, 1.0,...  5\n",
       "4  [[1.0, 1.0, 1.0, 1.0, 1.0, 1.0, 1.0, 1.0, 1.0,...  5"
      ]
     },
     "execution_count": 11,
     "metadata": {},
     "output_type": "execute_result"
    }
   ],
   "source": [
    "#import wf_putoff_sample\n",
    "#import wf_putoff\n",
    "\n",
    "''' creating data'''\n",
    "my_objects = []\n",
    "\n",
    "for y in range (5,0,-1):\n",
    "    for i in range(5):\n",
    "        for j in range(100):\n",
    "            my_objects.append(wf_putoff_sample(wf_putoff.augment(wf_putoff.white_picture(),random.randrange(25 * i,25 * i +25),random.randrange(15)) , y))\n",
    "            \n",
    "fields = ['picture', 'Y']           \n",
    "df = pd.DataFrame([{fn: getattr(f, fn) for fn in fields} for f in my_objects])\n",
    "df.head()\n"
   ]
  },
  {
   "cell_type": "markdown",
   "id": "1dc7da36-5dcf-46cf-8a79-ee765d3053d2",
   "metadata": {},
   "source": [
    "#to do, add data with black row and diagnol"
   ]
  },
  {
   "cell_type": "markdown",
   "id": "8f596fdd-713d-489e-a76a-33c0d57ca2cd",
   "metadata": {},
   "source": [
    "classes helper"
   ]
  },
  {
   "cell_type": "code",
   "execution_count": 12,
   "id": "c29ac7c0-3afa-4c8a-9c7d-0f4be90e5816",
   "metadata": {},
   "outputs": [
    {
     "data": {
      "text/plain": [
       "array([1., 1., 1., 1., 1., 1., 1., 1., 1., 1., 1., 1., 1., 1., 1., 1., 1.,\n",
       "       1., 1., 1., 1., 0., 1., 1., 1., 1., 1., 1., 1., 1., 1., 1., 1., 1.,\n",
       "       1., 1., 1., 1., 1., 1., 1., 1., 1., 1., 1., 1., 1., 1., 1., 1., 1.,\n",
       "       1., 1., 1., 1., 1., 1., 1., 1., 1., 1., 1., 1., 1., 1., 1., 1., 1.,\n",
       "       1., 1., 1., 1., 1., 1., 1., 1., 1., 1., 1., 1., 1., 1., 1., 1., 1.,\n",
       "       1., 1., 1., 1., 1., 1., 1., 1., 1., 1., 1., 1., 1., 1., 1., 1., 1.,\n",
       "       1., 1., 1., 1., 1., 1., 1., 1., 1., 1., 1., 1., 1., 1., 1., 1., 1.,\n",
       "       1., 1., 1., 1., 1., 1., 1., 1., 1.])"
      ]
     },
     "execution_count": 12,
     "metadata": {},
     "output_type": "execute_result"
    }
   ],
   "source": [
    "#128 == np.shape(df['picture'][0][1])[0]\n",
    "#len(df['picture'][0][0][:])\n",
    "df['picture'][0][0]\n"
   ]
  },
  {
   "cell_type": "markdown",
   "id": "e342c58e-302c-44fe-8359-8a73cf46a3e8",
   "metadata": {},
   "source": [
    "functions for preprocessing for linear regression"
   ]
  },
  {
   "cell_type": "code",
   "execution_count": 13,
   "id": "0321550b-7d09-4ec4-a925-04213e76b187",
   "metadata": {
    "tags": []
   },
   "outputs": [],
   "source": [
    "def find_first(item, vec):\n",
    "    \"\"\"return the index of the first occurence of item in vec\"\"\"\n",
    "    for i in range(len(vec)):\n",
    "        if item == vec[i]:\n",
    "            return i\n",
    "    return -1\n",
    "\n",
    "''' the fire will contiune with wind direction until the end or until hits fire, a black square'''\n",
    "def get_white_until_end_or_black(vec, start):\n",
    "    next_black = find_first(0, vec[start:])\n",
    "    if next_black == -1:\n",
    "        return len(vec[start:])\n",
    "    else:\n",
    "        return next_black\n",
    "\n",
    "def calc_row_will_be_burnt(row):\n",
    "    counter = 0\n",
    "    start = find_first(0, row)\n",
    "    if start == -1:\n",
    "        return counter;\n",
    "    while start < len(row):\n",
    "        delta = get_white_until_end_or_black(row, start + 1)\n",
    "        start += delta\n",
    "        if delta == 0:\n",
    "            start += 1\n",
    "        else:\n",
    "            counter += delta\n",
    "    return counter   \n",
    "        \n",
    "    \n",
    "def calc_area_will_be_burnt(d2Array):\n",
    "    counter = 0\n",
    "    for i in range (np.shape(d2Array[1])[0]):\n",
    "        #for j in range(np.shape(d2Array[0][0])[0]):\n",
    "        counter += calc_row_will_be_burnt(d2Array[i])\n",
    "    return counter                "
   ]
  },
  {
   "cell_type": "code",
   "execution_count": 14,
   "id": "863e68c6-82a1-4826-aa46-69c4c0448a1e",
   "metadata": {},
   "outputs": [
    {
     "name": "stdout",
     "output_type": "stream",
     "text": [
      "13682\n"
     ]
    }
   ],
   "source": [
    "#g = get_white_until_end_or_black(df['picture'][0][0],17)\n",
    "#g = calc_row_will_be_burnt(df['picture'][0][0])\n",
    "g = calc_area_will_be_burnt(df['picture'][0])\n",
    "print(g)"
   ]
  },
  {
   "cell_type": "code",
   "execution_count": 15,
   "id": "debc93b6-0c15-4390-8216-31b76a2d84d6",
   "metadata": {},
   "outputs": [
    {
     "data": {
      "image/png": "[encoded data removed]",
      "text/plain": [
       "<Figure size 432x288 with 1 Axes>"
      ]
     },
     "metadata": {
      "needs_background": "light"
     },
     "output_type": "display_data"
    }
   ],
   "source": [
    "plt.gray()\n",
    "plt.imshow(df['picture'][0])\n",
    "plt.show()"
   ]
  },
  {
   "cell_type": "markdown",
   "id": "bf9fc0a8-dc4a-477a-9397-7d210a6c33ad",
   "metadata": {},
   "source": [
    "vectorization - not in use meanwhile"
   ]
  },
  {
   "cell_type": "code",
   "execution_count": 16,
   "id": "0c7a34f1-0fc0-4ddd-9d0e-048655c84353",
   "metadata": {},
   "outputs": [],
   "source": [
    "from numba import jit\n",
    "\n",
    "vectorized_calc_area = jit(calc_area_will_be_burnt)"
   ]
  },
  {
   "cell_type": "code",
   "execution_count": 17,
   "id": "18a27098-b30e-4d85-b4a5-8d20c3b41cdc",
   "metadata": {},
   "outputs": [
    {
     "name": "stderr",
     "output_type": "stream",
     "text": [
      "/tmp/ipykernel_95/3762243227.py:31: NumbaWarning: \u001b[1m\n",
      "Compilation is falling back to object mode WITH looplifting enabled because Function \"calc_area_will_be_burnt\" failed type inference due to: \u001b[1mUntyped global name 'calc_row_will_be_burnt':\u001b[0m \u001b[1m\u001b[1mCannot determine Numba type of <class 'function'>\u001b[0m\n",
      "\u001b[1m\n",
      "File \"../../../tmp/ipykernel_95/3762243227.py\", line 35:\u001b[0m\n",
      "\u001b[1m<source missing, REPL/exec in use?>\u001b[0m\n",
      "\u001b[0m\u001b[0m\n",
      "  def calc_area_will_be_burnt(d2Array):\n",
      "/tmp/ipykernel_95/3762243227.py:31: NumbaWarning: \u001b[1m\n",
      "Compilation is falling back to object mode WITHOUT looplifting enabled because Function \"calc_area_will_be_burnt\" failed type inference due to: \u001b[1m\u001b[1mCannot determine Numba type of <class 'numba.core.dispatcher.LiftedLoop'>\u001b[0m\n",
      "\u001b[1m\n",
      "File \"../../../tmp/ipykernel_95/3762243227.py\", line 33:\u001b[0m\n",
      "\u001b[1m<source missing, REPL/exec in use?>\u001b[0m\n",
      "\u001b[0m\u001b[0m\n",
      "  def calc_area_will_be_burnt(d2Array):\n",
      "/home/studio-lab-user/.conda/envs/default/lib/python3.9/site-packages/numba/core/object_mode_passes.py:151: NumbaWarning: \u001b[1mFunction \"calc_area_will_be_burnt\" was compiled in object mode without forceobj=True, but has lifted loops.\n",
      "\u001b[1m\n",
      "File \"../../../tmp/ipykernel_95/3762243227.py\", line 32:\u001b[0m\n",
      "\u001b[1m<source missing, REPL/exec in use?>\u001b[0m\n",
      "\u001b[0m\n",
      "  warnings.warn(errors.NumbaWarning(warn_msg,\n",
      "/home/studio-lab-user/.conda/envs/default/lib/python3.9/site-packages/numba/core/object_mode_passes.py:161: NumbaDeprecationWarning: \u001b[1m\n",
      "Fall-back from the nopython compilation path to the object mode compilation path has been detected, this is deprecated behaviour.\n",
      "\n",
      "For more information visit https://numba.pydata.org/numba-doc/latest/reference/deprecation.html#deprecation-of-object-mode-fall-back-behaviour-when-using-jit\n",
      "\u001b[1m\n",
      "File \"../../../tmp/ipykernel_95/3762243227.py\", line 32:\u001b[0m\n",
      "\u001b[1m<source missing, REPL/exec in use?>\u001b[0m\n",
      "\u001b[0m\n",
      "  warnings.warn(errors.NumbaDeprecationWarning(msg,\n",
      "/tmp/ipykernel_95/3762243227.py:31: NumbaWarning: \u001b[1m\n",
      "Compilation is falling back to object mode WITHOUT looplifting enabled because Function \"calc_area_will_be_burnt\" failed type inference due to: \u001b[1mUntyped global name 'calc_row_will_be_burnt':\u001b[0m \u001b[1m\u001b[1mCannot determine Numba type of <class 'function'>\u001b[0m\n",
      "\u001b[1m\n",
      "File \"../../../tmp/ipykernel_95/3762243227.py\", line 35:\u001b[0m\n",
      "\u001b[1m<source missing, REPL/exec in use?>\u001b[0m\n",
      "\u001b[0m\u001b[0m\n",
      "  def calc_area_will_be_burnt(d2Array):\n",
      "/home/studio-lab-user/.conda/envs/default/lib/python3.9/site-packages/numba/core/object_mode_passes.py:151: NumbaWarning: \u001b[1mFunction \"calc_area_will_be_burnt\" was compiled in object mode without forceobj=True.\n",
      "\u001b[1m\n",
      "File \"../../../tmp/ipykernel_95/3762243227.py\", line 33:\u001b[0m\n",
      "\u001b[1m<source missing, REPL/exec in use?>\u001b[0m\n",
      "\u001b[0m\n",
      "  warnings.warn(errors.NumbaWarning(warn_msg,\n",
      "/home/studio-lab-user/.conda/envs/default/lib/python3.9/site-packages/numba/core/object_mode_passes.py:161: NumbaDeprecationWarning: \u001b[1m\n",
      "Fall-back from the nopython compilation path to the object mode compilation path has been detected, this is deprecated behaviour.\n",
      "\n",
      "For more information visit https://numba.pydata.org/numba-doc/latest/reference/deprecation.html#deprecation-of-object-mode-fall-back-behaviour-when-using-jit\n",
      "\u001b[1m\n",
      "File \"../../../tmp/ipykernel_95/3762243227.py\", line 33:\u001b[0m\n",
      "\u001b[1m<source missing, REPL/exec in use?>\u001b[0m\n",
      "\u001b[0m\n",
      "  warnings.warn(errors.NumbaDeprecationWarning(msg,\n"
     ]
    },
    {
     "name": "stdout",
     "output_type": "stream",
     "text": [
      "13682\n"
     ]
    }
   ],
   "source": [
    "y = vectorized_calc_area(df['picture'][0])\n",
    "print(y)"
   ]
  },
  {
   "cell_type": "markdown",
   "id": "f19db421-e116-44db-88df-a8707d479c34",
   "metadata": {},
   "source": [
    "creating data for linear regression"
   ]
  },
  {
   "cell_type": "code",
   "execution_count": 18,
   "id": "f2005fbc-b290-44b8-bebf-b43879ddefa9",
   "metadata": {},
   "outputs": [],
   "source": [
    "def calc_area_will_be_burnt_df(row):\n",
    "    d2Array = row['picture']\n",
    "    counter = 0\n",
    "    for i in range (np.shape(d2Array[1])[0]):\n",
    "        #for j in range(np.shape(d2Array[0][0])[0]):\n",
    "        counter += calc_row_will_be_burnt(d2Array[i])\n",
    "    return counter  "
   ]
  },
  {
   "cell_type": "code",
   "execution_count": 19,
   "id": "ce271248-9191-4e09-8fe1-b4dfea3f1ca5",
   "metadata": {},
   "outputs": [
    {
     "data": {
      "text/plain": [
       "0       13682\n",
       "1       12476\n",
       "2       14529\n",
       "3       13526\n",
       "4       13526\n",
       "        ...  \n",
       "2495     5816\n",
       "2496     3270\n",
       "2497     5390\n",
       "2498     4692\n",
       "2499     3949\n",
       "Length: 2500, dtype: int64"
      ]
     },
     "execution_count": 19,
     "metadata": {},
     "output_type": "execute_result"
    }
   ],
   "source": [
    "dd =df.apply(calc_area_will_be_burnt_df, axis=1)\n",
    "dd"
   ]
  },
  {
   "cell_type": "code",
   "execution_count": 20,
   "id": "1c9dcd7f-0a71-4a8a-a882-dede6d56cb4d",
   "metadata": {},
   "outputs": [],
   "source": [
    "ddf = pd.concat([dd.rename('X'),df['Y']], axis=1)"
   ]
  },
  {
   "cell_type": "code",
   "execution_count": 21,
   "id": "2fabfb51-d77a-4afe-a4fd-06da2b2c3c19",
   "metadata": {},
   "outputs": [
    {
     "data": {
      "text/html": [
       "<div>\n",
       "<style scoped>\n",
       "    .dataframe tbody tr th:only-of-type {\n",
       "        vertical-align: middle;\n",
       "    }\n",
       "\n",
       "    .dataframe tbody tr th {\n",
       "        vertical-align: top;\n",
       "    }\n",
       "\n",
       "    .dataframe thead th {\n",
       "        text-align: right;\n",
       "    }\n",
       "</style>\n",
       "<table border=\"1\" class=\"dataframe\">\n",
       "  <thead>\n",
       "    <tr style=\"text-align: right;\">\n",
       "      <th></th>\n",
       "      <th>X</th>\n",
       "      <th>Y</th>\n",
       "    </tr>\n",
       "  </thead>\n",
       "  <tbody>\n",
       "    <tr>\n",
       "      <th>2495</th>\n",
       "      <td>5816</td>\n",
       "      <td>1</td>\n",
       "    </tr>\n",
       "    <tr>\n",
       "      <th>2496</th>\n",
       "      <td>3270</td>\n",
       "      <td>1</td>\n",
       "    </tr>\n",
       "    <tr>\n",
       "      <th>2497</th>\n",
       "      <td>5390</td>\n",
       "      <td>1</td>\n",
       "    </tr>\n",
       "    <tr>\n",
       "      <th>2498</th>\n",
       "      <td>4692</td>\n",
       "      <td>1</td>\n",
       "    </tr>\n",
       "    <tr>\n",
       "      <th>2499</th>\n",
       "      <td>3949</td>\n",
       "      <td>1</td>\n",
       "    </tr>\n",
       "  </tbody>\n",
       "</table>\n",
       "</div>"
      ],
      "text/plain": [
       "         X  Y\n",
       "2495  5816  1\n",
       "2496  3270  1\n",
       "2497  5390  1\n",
       "2498  4692  1\n",
       "2499  3949  1"
      ]
     },
     "execution_count": 21,
     "metadata": {},
     "output_type": "execute_result"
    }
   ],
   "source": [
    "ddf.tail()"
   ]
  },
  {
   "cell_type": "code",
   "execution_count": 22,
   "id": "188e50ac-5186-4db4-bc5b-371fbc1548d7",
   "metadata": {},
   "outputs": [
    {
     "name": "stdout",
     "output_type": "stream",
     "text": [
      "Requirement already satisfied: sagemaker in /home/studio-lab-user/.conda/envs/default/lib/python3.9/site-packages (2.74.0)\n",
      "Requirement already satisfied: protobuf3-to-dict>=0.1.5 in /home/studio-lab-user/.conda/envs/default/lib/python3.9/site-packages (from sagemaker) (0.1.5)\n",
      "Requirement already satisfied: attrs in /home/studio-lab-user/.conda/envs/default/lib/python3.9/site-packages (from sagemaker) (21.2.0)\n",
      "Requirement already satisfied: importlib-metadata>=1.4.0 in /home/studio-lab-user/.conda/envs/default/lib/python3.9/site-packages (from sagemaker) (4.8.2)\n",
      "Requirement already satisfied: google-pasta in /home/studio-lab-user/.conda/envs/default/lib/python3.9/site-packages (from sagemaker) (0.2.0)\n",
      "Requirement already satisfied: numpy>=1.9.0 in /home/studio-lab-user/.conda/envs/default/lib/python3.9/site-packages (from sagemaker) (1.21.0)\n",
      "Requirement already satisfied: boto3>=1.20.21 in /home/studio-lab-user/.conda/envs/default/lib/python3.9/site-packages (from sagemaker) (1.20.44)\n",
      "Requirement already satisfied: packaging>=20.0 in /home/studio-lab-user/.conda/envs/default/lib/python3.9/site-packages (from sagemaker) (21.3)\n",
      "Requirement already satisfied: pandas in /home/studio-lab-user/.conda/envs/default/lib/python3.9/site-packages (from sagemaker) (1.4.0)\n",
      "Requirement already satisfied: protobuf>=3.1 in /home/studio-lab-user/.conda/envs/default/lib/python3.9/site-packages (from sagemaker) (3.19.3)\n",
      "Requirement already satisfied: smdebug-rulesconfig==1.0.1 in /home/studio-lab-user/.conda/envs/default/lib/python3.9/site-packages (from sagemaker) (1.0.1)\n",
      "Requirement already satisfied: pathos in /home/studio-lab-user/.conda/envs/default/lib/python3.9/site-packages (from sagemaker) (0.2.8)\n",
      "Requirement already satisfied: s3transfer<0.6.0,>=0.5.0 in /home/studio-lab-user/.conda/envs/default/lib/python3.9/site-packages (from boto3>=1.20.21->sagemaker) (0.5.0)\n",
      "Requirement already satisfied: botocore<1.24.0,>=1.23.44 in /home/studio-lab-user/.conda/envs/default/lib/python3.9/site-packages (from boto3>=1.20.21->sagemaker) (1.23.44)\n",
      "Requirement already satisfied: jmespath<1.0.0,>=0.7.1 in /home/studio-lab-user/.conda/envs/default/lib/python3.9/site-packages (from boto3>=1.20.21->sagemaker) (0.10.0)\n",
      "Requirement already satisfied: python-dateutil<3.0.0,>=2.1 in /home/studio-lab-user/.conda/envs/default/lib/python3.9/site-packages (from botocore<1.24.0,>=1.23.44->boto3>=1.20.21->sagemaker) (2.8.2)\n",
      "Requirement already satisfied: urllib3<1.27,>=1.25.4 in /home/studio-lab-user/.conda/envs/default/lib/python3.9/site-packages (from botocore<1.24.0,>=1.23.44->boto3>=1.20.21->sagemaker) (1.26.8)\n",
      "Requirement already satisfied: zipp>=0.5 in /home/studio-lab-user/.conda/envs/default/lib/python3.9/site-packages (from importlib-metadata>=1.4.0->sagemaker) (3.6.0)\n",
      "Requirement already satisfied: pyparsing!=3.0.5,>=2.0.2 in /home/studio-lab-user/.conda/envs/default/lib/python3.9/site-packages (from packaging>=20.0->sagemaker) (3.0.6)\n",
      "Requirement already satisfied: six in /home/studio-lab-user/.conda/envs/default/lib/python3.9/site-packages (from protobuf3-to-dict>=0.1.5->sagemaker) (1.16.0)\n",
      "Requirement already satisfied: pytz>=2020.1 in /home/studio-lab-user/.conda/envs/default/lib/python3.9/site-packages (from pandas->sagemaker) (2021.3)\n",
      "Requirement already satisfied: multiprocess>=0.70.12 in /home/studio-lab-user/.conda/envs/default/lib/python3.9/site-packages (from pathos->sagemaker) (0.70.12.2)\n",
      "Requirement already satisfied: ppft>=1.6.6.4 in /home/studio-lab-user/.conda/envs/default/lib/python3.9/site-packages (from pathos->sagemaker) (1.6.6.4)\n",
      "Requirement already satisfied: pox>=0.3.0 in /home/studio-lab-user/.conda/envs/default/lib/python3.9/site-packages (from pathos->sagemaker) (0.3.0)\n",
      "Requirement already satisfied: dill>=0.3.4 in /home/studio-lab-user/.conda/envs/default/lib/python3.9/site-packages (from pathos->sagemaker) (0.3.4)\n",
      "Note: you may need to restart the kernel to use updated packages.\n"
     ]
    }
   ],
   "source": [
    "pip install sagemaker"
   ]
  },
  {
   "cell_type": "code",
   "execution_count": 23,
   "id": "998dc856-c056-4d60-8495-0a302e6104a0",
   "metadata": {},
   "outputs": [
    {
     "name": "stdout",
     "output_type": "stream",
     "text": [
      "Requirement already satisfied: awscli in /home/studio-lab-user/.conda/envs/default/lib/python3.9/site-packages (1.22.44)\n",
      "Requirement already satisfied: rsa<4.8,>=3.1.2 in /home/studio-lab-user/.conda/envs/default/lib/python3.9/site-packages (from awscli) (4.7.2)\n",
      "Requirement already satisfied: colorama<0.4.4,>=0.2.5 in /home/studio-lab-user/.conda/envs/default/lib/python3.9/site-packages (from awscli) (0.4.3)\n",
      "Requirement already satisfied: PyYAML<5.5,>=3.10 in /home/studio-lab-user/.conda/envs/default/lib/python3.9/site-packages (from awscli) (5.4.1)\n",
      "Requirement already satisfied: botocore==1.23.44 in /home/studio-lab-user/.conda/envs/default/lib/python3.9/site-packages (from awscli) (1.23.44)\n",
      "Requirement already satisfied: s3transfer<0.6.0,>=0.5.0 in /home/studio-lab-user/.conda/envs/default/lib/python3.9/site-packages (from awscli) (0.5.0)\n",
      "Requirement already satisfied: docutils<0.16,>=0.10 in /home/studio-lab-user/.conda/envs/default/lib/python3.9/site-packages (from awscli) (0.15.2)\n",
      "Requirement already satisfied: jmespath<1.0.0,>=0.7.1 in /home/studio-lab-user/.conda/envs/default/lib/python3.9/site-packages (from botocore==1.23.44->awscli) (0.10.0)\n",
      "Requirement already satisfied: urllib3<1.27,>=1.25.4 in /home/studio-lab-user/.conda/envs/default/lib/python3.9/site-packages (from botocore==1.23.44->awscli) (1.26.8)\n",
      "Requirement already satisfied: python-dateutil<3.0.0,>=2.1 in /home/studio-lab-user/.conda/envs/default/lib/python3.9/site-packages (from botocore==1.23.44->awscli) (2.8.2)\n",
      "Requirement already satisfied: six>=1.5 in /home/studio-lab-user/.conda/envs/default/lib/python3.9/site-packages (from python-dateutil<3.0.0,>=2.1->botocore==1.23.44->awscli) (1.16.0)\n",
      "Requirement already satisfied: pyasn1>=0.1.3 in /home/studio-lab-user/.conda/envs/default/lib/python3.9/site-packages (from rsa<4.8,>=3.1.2->awscli) (0.4.8)\n",
      "Note: you may need to restart the kernel to use updated packages.\n"
     ]
    }
   ],
   "source": [
    "pip install awscli"
   ]
  },
  {
   "cell_type": "code",
   "execution_count": 24,
   "id": "b9c14681-c314-4ceb-aadc-09ee419ed771",
   "metadata": {},
   "outputs": [
    {
     "name": "stdout",
     "output_type": "stream",
     "text": [
      "mkdir: cannot create directory '/home/studio-lab-user/.aws': File exists\n"
     ]
    }
   ],
   "source": [
    "!mkdir ~/.aws"
   ]
  },
  {
   "cell_type": "code",
   "execution_count": 25,
   "id": "39e5e226-7032-4a7e-b84a-11a2a81bc943",
   "metadata": {},
   "outputs": [
    {
     "data": {
      "text/plain": [
       "'%%writefile ~/.aws/credentials\\n\\n[default]\\naws_access_key_id =  #< paste your access key here, run this cell, then delete the cell >\\naws_secret_access_key =#< paste your access key here, run this cell, then delete the cell >'"
      ]
     },
     "execution_count": 25,
     "metadata": {},
     "output_type": "execute_result"
    }
   ],
   "source": [
    "'''%%writefile ~/.aws/credentials\n",
    "\n",
    "[default]\n",
    "aws_access_key_id =  #< paste your access key here, run this cell, then delete the cell >\n",
    "aws_secret_access_key =#< paste your access key here, run this cell, then delete the cell >'''"
   ]
  },
  {
   "cell_type": "code",
   "execution_count": 26,
   "id": "48846b43-93e4-4ed5-a16c-29a7ea08ea7e",
   "metadata": {},
   "outputs": [
    {
     "name": "stdout",
     "output_type": "stream",
     "text": [
      "Overwriting /home/studio-lab-user/.aws/credentials\n"
     ]
    }
   ],
   "source": [
    "#removed it's the above code with keys"
   ]
  },
  {
   "cell_type": "code",
   "execution_count": 27,
   "id": "1436bd27-b8a9-40f0-9641-f5343e03dae1",
   "metadata": {},
   "outputs": [
    {
     "name": "stdout",
     "output_type": "stream",
     "text": [
      "Overwriting /home/studio-lab-user/.aws/config\n"
     ]
    }
   ],
   "source": [
    "%%writefile ~/.aws/config\n",
    "\n",
    "[default]\n",
    "region=us-west-2"
   ]
  },
  {
   "cell_type": "markdown",
   "id": "ecfb2d1e-f4e4-4889-8a55-5bc8688e926e",
   "metadata": {},
   "source": [
    "splitting to train and test"
   ]
  },
  {
   "cell_type": "code",
   "execution_count": 28,
   "id": "222ea2a3-b937-448d-9c41-2329c68aa34a",
   "metadata": {},
   "outputs": [
    {
     "name": "stdout",
     "output_type": "stream",
     "text": [
      "(2000, 2) (500, 2)\n"
     ]
    }
   ],
   "source": [
    "train_data, test_data = np.split(ddf.sample(frac=1, random_state=1729), [int(0.8 * len(ddf))])\n",
    "print(train_data.shape, test_data.shape)"
   ]
  },
  {
   "cell_type": "code",
   "execution_count": 29,
   "id": "e401dda3-c0b0-4517-8678-42205ca2d22b",
   "metadata": {},
   "outputs": [],
   "source": [
    "import sagemaker\n",
    "\n",
    "bucket = sagemaker.Session().default_bucket()\n",
    "prefix = \"sagemaker/linear-put-out-fires\"\n",
    "prefix_job_name = 'linear-put-out-fires-'\n",
    "# Define IAM role\n",
    "import boto3\n",
    "import re\n",
    "from sagemaker import get_execution_role\n",
    "\n",
    "role = 'arn:aws:iam::555467231644:role/service-role/AmazonSageMaker-ExecutionRole-20220125T140012' \n",
    "#get_execution_role()"
   ]
  },
  {
   "cell_type": "markdown",
   "id": "7635edc8-94e0-4b01-9d19-1b70eb58e0f1",
   "metadata": {},
   "source": [
    "failed to run straight from DataFrame "
   ]
  },
  {
   "cell_type": "code",
   "execution_count": 30,
   "id": "a5681e73-e619-44c6-bc46-55cec245b349",
   "metadata": {},
   "outputs": [
    {
     "data": {
      "text/plain": [
       "'vectors =  np.array([ddf[\\'X\\']]).astype(\"float32\")\\nlabels = ddf[\\'Y\\'].astype(\"float32\")\\n\\nbuf = io.BytesIO()\\nsmac.write_numpy_to_dense_tensor(buf, vectors, labels)\\nbuf.seek(0)'"
      ]
     },
     "execution_count": 30,
     "metadata": {},
     "output_type": "execute_result"
    }
   ],
   "source": [
    "import io\n",
    "import numpy as np\n",
    "import sagemaker.amazon.common as smac\n",
    "\n",
    "'''vectors =  np.array([ddf['X']]).astype(\"float32\")\n",
    "labels = ddf['Y'].astype(\"float32\")\n",
    "\n",
    "buf = io.BytesIO()\n",
    "smac.write_numpy_to_dense_tensor(buf, vectors, labels)\n",
    "buf.seek(0)'''"
   ]
  },
  {
   "cell_type": "code",
   "execution_count": 31,
   "id": "19423c73-8071-4a4e-8582-00aafa47c748",
   "metadata": {},
   "outputs": [
    {
     "data": {
      "text/plain": [
       "'import boto3\\nimport os\\n\\nkey = \"recordio-pb-data\"\\nboto3.resource(\"s3\").Bucket(bucket).Object(os.path.join(prefix, \"train\", key)).upload_fileobj(buf)\\ns3_train_data = \"s3://{}/{}/train/{}\".format(bucket, prefix, key)\\nprint(\"uploaded training data location: {}\".format(s3_train_data))'"
      ]
     },
     "execution_count": 31,
     "metadata": {},
     "output_type": "execute_result"
    }
   ],
   "source": [
    "'''import boto3\n",
    "import os\n",
    "\n",
    "key = \"recordio-pb-data\"\n",
    "boto3.resource(\"s3\").Bucket(bucket).Object(os.path.join(prefix, \"train\", key)).upload_fileobj(buf)\n",
    "s3_train_data = \"s3://{}/{}/train/{}\".format(bucket, prefix, key)\n",
    "print(\"uploaded training data location: {}\".format(s3_train_data))'''"
   ]
  },
  {
   "cell_type": "code",
   "execution_count": 32,
   "id": "806b33e8-e08c-447d-a69f-1331274c2d1a",
   "metadata": {},
   "outputs": [
    {
     "data": {
      "text/plain": [
       "'import time\\nfrom time import gmtime, strftime  # For labeling SageMaker models, endpoints, etc.\\n\\nlinear_job = prefix_job_name + time.strftime(\"%Y-%m-%d-%H-%M-%S\", time.gmtime())\\n\\nprint(\"Job name is:\", linear_job)\\n\\nlinear_training_params = {\\n    \"RoleArn\": role,\\n    \"TrainingJobName\": linear_job,\\n    \"AlgorithmSpecification\": {\"TrainingImage\": s3_train_data, \"TrainingInputMode\": \"Pipe\"},\\n    \"ResourceConfig\": {\"InstanceCount\": 1, \"InstanceType\": \"ml.c4.2xlarge\", \"VolumeSizeInGB\": 1},\\n    \"InputDataConfig\": [\\n        {\\n            \"ChannelName\": \"train\",\\n            \"DataSource\": {\\n                \"S3DataSource\": {\\n                    \"S3DataType\": \"S3Prefix\",\\n                    \"S3Uri\": \"s3://{}/{}/train/\".format(bucket, prefix),\\n                    \"S3DataDistributionType\": \"ShardedByS3Key\",\\n                }\\n            },\\n            \"CompressionType\": \"None\",\\n            \"RecordWrapperType\": \"None\",\\n        },\\n        {\\n            \"ChannelName\": \"validation\",\\n            \"DataSource\": {\\n                \"S3DataSource\": {\\n                    \"S3DataType\": \"S3Prefix\",\\n                    \"S3Uri\": \"s3://{}/{}/validation/\".format(bucket, prefix),\\n                    \"S3DataDistributionType\": \"FullyReplicated\",\\n                }\\n            },\\n            \"CompressionType\": \"None\",\\n            \"RecordWrapperType\": \"None\",\\n        },\\n    ],\\n    \"OutputDataConfig\": {\"S3OutputPath\": \"s3://{}/{}/\".format(bucket, prefix)},\\n    \"HyperParameters\": {\\n        \"feature_dim\": \"auto\",\\n        \"mini_batch_size\": \"100\",\\n        \"predictor_type\": \"regressor\",\\n        \"epochs\": \"10\",\\n        \"num_models\": \"32\",\\n        \"loss\": \"auto\",\\n        \"normalize_label\": \"false\",\\n    },\\n    \"StoppingCondition\": {\"MaxRuntimeInSeconds\": 7 * 60},\\n}'"
      ]
     },
     "execution_count": 32,
     "metadata": {},
     "output_type": "execute_result"
    }
   ],
   "source": [
    "'''import time\n",
    "from time import gmtime, strftime  # For labeling SageMaker models, endpoints, etc.\n",
    "\n",
    "linear_job = prefix_job_name + time.strftime(\"%Y-%m-%d-%H-%M-%S\", time.gmtime())\n",
    "\n",
    "print(\"Job name is:\", linear_job)\n",
    "\n",
    "linear_training_params = {\n",
    "    \"RoleArn\": role,\n",
    "    \"TrainingJobName\": linear_job,\n",
    "    \"AlgorithmSpecification\": {\"TrainingImage\": s3_train_data, \"TrainingInputMode\": \"Pipe\"},\n",
    "    \"ResourceConfig\": {\"InstanceCount\": 1, \"InstanceType\": \"ml.c4.2xlarge\", \"VolumeSizeInGB\": 1},\n",
    "    \"InputDataConfig\": [\n",
    "        {\n",
    "            \"ChannelName\": \"train\",\n",
    "            \"DataSource\": {\n",
    "                \"S3DataSource\": {\n",
    "                    \"S3DataType\": \"S3Prefix\",\n",
    "                    \"S3Uri\": \"s3://{}/{}/train/\".format(bucket, prefix),\n",
    "                    \"S3DataDistributionType\": \"ShardedByS3Key\",\n",
    "                }\n",
    "            },\n",
    "            \"CompressionType\": \"None\",\n",
    "            \"RecordWrapperType\": \"None\",\n",
    "        },\n",
    "        {\n",
    "            \"ChannelName\": \"validation\",\n",
    "            \"DataSource\": {\n",
    "                \"S3DataSource\": {\n",
    "                    \"S3DataType\": \"S3Prefix\",\n",
    "                    \"S3Uri\": \"s3://{}/{}/validation/\".format(bucket, prefix),\n",
    "                    \"S3DataDistributionType\": \"FullyReplicated\",\n",
    "                }\n",
    "            },\n",
    "            \"CompressionType\": \"None\",\n",
    "            \"RecordWrapperType\": \"None\",\n",
    "        },\n",
    "    ],\n",
    "    \"OutputDataConfig\": {\"S3OutputPath\": \"s3://{}/{}/\".format(bucket, prefix)},\n",
    "    \"HyperParameters\": {\n",
    "        \"feature_dim\": \"auto\",\n",
    "        \"mini_batch_size\": \"100\",\n",
    "        \"predictor_type\": \"regressor\",\n",
    "        \"epochs\": \"10\",\n",
    "        \"num_models\": \"32\",\n",
    "        \"loss\": \"auto\",\n",
    "        \"normalize_label\": \"false\",\n",
    "    },\n",
    "    \"StoppingCondition\": {\"MaxRuntimeInSeconds\": 7 * 60},\n",
    "}'''"
   ]
  },
  {
   "cell_type": "code",
   "execution_count": 33,
   "id": "27c4c07a-9a0e-4d6a-abf3-f1dfa870a2a3",
   "metadata": {},
   "outputs": [
    {
     "data": {
      "text/plain": [
       "'%%time\\n\\nregion = boto3.Session().region_name\\nsm = boto3.client(\"sagemaker\")\\n\\nsm.create_training_job(**linear_training_params)\\nstatus = sm.describe_training_job(TrainingJobName=linear_job)[\"TrainingJobStatus\"]\\nprint(status)\\nsm.get_waiter(\"training_job_completed_or_stopped\").wait(TrainingJobName=linear_job)\\nif status == \"Failed\":\\n    message = sm.describe_training_job(TrainingJobName=linear_job)[\"FailureReason\"]\\n    print(\"Training failed with the following error: {}\".format(message))\\n    raise Exception(\"Training job failed\")'"
      ]
     },
     "execution_count": 33,
     "metadata": {},
     "output_type": "execute_result"
    }
   ],
   "source": [
    "'''%%time\n",
    "\n",
    "region = boto3.Session().region_name\n",
    "sm = boto3.client(\"sagemaker\")\n",
    "\n",
    "sm.create_training_job(**linear_training_params)\n",
    "status = sm.describe_training_job(TrainingJobName=linear_job)[\"TrainingJobStatus\"]\n",
    "print(status)\n",
    "sm.get_waiter(\"training_job_completed_or_stopped\").wait(TrainingJobName=linear_job)\n",
    "if status == \"Failed\":\n",
    "    message = sm.describe_training_job(TrainingJobName=linear_job)[\"FailureReason\"]\n",
    "    print(\"Training failed with the following error: {}\".format(message))\n",
    "    raise Exception(\"Training job failed\")'''"
   ]
  },
  {
   "cell_type": "code",
   "execution_count": 34,
   "id": "47171008-e30c-4a5b-a0ea-db62298c1bf6",
   "metadata": {},
   "outputs": [
    {
     "data": {
      "text/plain": [
       "'us-west-2'"
      ]
     },
     "execution_count": 34,
     "metadata": {},
     "output_type": "execute_result"
    }
   ],
   "source": [
    "my_region = boto3.session.Session().region_name\n",
    "my_region"
   ]
  },
  {
   "cell_type": "code",
   "execution_count": 35,
   "id": "c86d809c-cff0-4221-a3cb-99df7b072acd",
   "metadata": {},
   "outputs": [
    {
     "name": "stdout",
     "output_type": "stream",
     "text": [
      "S3 bucket created successfully\n"
     ]
    }
   ],
   "source": [
    "import time\n",
    "from time import gmtime, strftime  # For labeling SageMaker models, endpoints, etc.\n",
    "\n",
    "bucket_name =prefix_job_name + time.strftime(\"%Y-%m-%d-%H-%M-%S\", time.gmtime())\n",
    "s3 = boto3.resource('s3')\n",
    "\n",
    "# really bright - (:\n",
    "'''Regions outside of us-east-1 require the appropriate LocationConstraint to be \n",
    "specified in order to create the bucket in the desired region.'''\n",
    "#\n",
    "try:\n",
    "    if  my_region == 'us-east-1':\n",
    "      s3.create_bucket(Bucket=bucket_name)\n",
    "    else: \n",
    "      s3.create_bucket(Bucket=bucket_name, CreateBucketConfiguration={ 'LocationConstraint': my_region })\n",
    "    print('S3 bucket created successfully')\n",
    "except Exception as e:\n",
    "    print('S3 error: ',e)\n",
    "    \n",
    "    "
   ]
  },
  {
   "cell_type": "code",
   "execution_count": 63,
   "id": "b9ab6c53-cdd6-46fb-be73-759049c6d090",
   "metadata": {},
   "outputs": [],
   "source": [
    "import os\n",
    "\n",
    "'''https://github.com/aws/sagemaker-python-sdk/issues/819'''\n",
    "# https://jyotiyadav99111.medium.com/aws-sagemaker-demonstration-for-machine-learning-model-deployment-fbb26aac127c\n",
    "# as per some documentations in AWS the target variable should be the first column\n",
    "\n",
    "pd.concat([train_data['Y'], train_data['X']], axis=1).to_csv('train.csv', index=False, header=False)\n",
    "#train_data.to_csv('train.csv', index=False, header=False)\n",
    "boto3.Session().resource('s3').Bucket(bucket_name).Object(os.path.join(prefix, 'train/train.csv')).upload_file('train.csv')\n",
    "s3_input_train = sagemaker.inputs.TrainingInput(s3_data='s3://{}/{}/train'.format(bucket_name, prefix), content_type='text/csv')"
   ]
  },
  {
   "cell_type": "code",
   "execution_count": 70,
   "id": "26954ede-2120-4ada-aa38-f364e9780ccf",
   "metadata": {},
   "outputs": [
    {
     "name": "stderr",
     "output_type": "stream",
     "text": [
      "Defaulting to the only supported framework/algorithm version: 1. Ignoring framework/algorithm version: latest.\n"
     ]
    }
   ],
   "source": [
    "import boto3, re, sys, math, json, os, sagemaker\n",
    "from sagemaker.predictor import csv_serializer\n",
    "\n",
    "'''\n",
    "what a hassle to find all options:\n",
    "https://github.com/aws/sagemaker-python-sdk/issues/1902\n",
    "https://github.com/aws/sagemaker-python-sdk/tree/master/src/sagemaker/image_uri_config\n",
    "'''\n",
    "\n",
    "linear_container = sagemaker.image_uris.retrieve(\"linear-learner\", my_region, \"latest\")\n",
    "\n",
    "sess = sagemaker.Session()\n",
    "linear = sagemaker.estimator.Estimator(linear_container,role, instance_count=1, instance_type='ml.m4.xlarge',output_path='s3://{}/{}/output'.format(bucket_name, prefix),sagemaker_session=sess)\n",
    "#xgb.set_hyperparameters(max_depth=5,eta=0.2,gamma=4,min_child_weight=6,subsample=0.8,silent=0,objective='binary:logistic',num_round=100)\n",
    "linear.set_hyperparameters(feature_dim='auto', mini_batch_size=16, predictor_type='regressor',epochs=3,num_models=4, normalize_label='false')"
   ]
  },
  {
   "cell_type": "code",
   "execution_count": 71,
   "id": "a7de0c91-91c3-47c8-975c-f8ff23171aeb",
   "metadata": {},
   "outputs": [
    {
     "name": "stdout",
     "output_type": "stream",
     "text": [
      "2022-02-04 06:42:38 Starting - Starting the training job...\n",
      "2022-02-04 06:43:02 Starting - Launching requested ML instancesProfilerReport-1643956957: InProgress\n",
      "...\n",
      "2022-02-04 06:43:35 Starting - Preparing the instances for training............\n",
      "2022-02-04 06:45:45 Downloading - Downloading input data...\n",
      "2022-02-04 06:46:10 Training - Downloading the training image...\n",
      "2022-02-04 06:46:47 Uploading - Uploading generated training model\u001b[34mDocker entrypoint called with argument(s): train\u001b[0m\n",
      "\u001b[34mRunning default environment configuration script\u001b[0m\n",
      "\u001b[34m[02/04/2022 06:46:38 INFO 139654967449408] Reading default configuration from /opt/amazon/lib/python3.7/site-packages/algorithm/resources/default-input.json: {'mini_batch_size': '1000', 'epochs': '15', 'feature_dim': 'auto', 'use_bias': 'true', 'binary_classifier_model_selection_criteria': 'accuracy', 'f_beta': '1.0', 'target_recall': '0.8', 'target_precision': '0.8', 'num_models': 'auto', 'num_calibration_samples': '10000000', 'init_method': 'uniform', 'init_scale': '0.07', 'init_sigma': '0.01', 'init_bias': '0.0', 'optimizer': 'auto', 'loss': 'auto', 'margin': '1.0', 'quantile': '0.5', 'loss_insensitivity': '0.01', 'huber_delta': '1.0', 'num_classes': '1', 'accuracy_top_k': '3', 'wd': 'auto', 'l1': 'auto', 'momentum': 'auto', 'learning_rate': 'auto', 'beta_1': 'auto', 'beta_2': 'auto', 'bias_lr_mult': 'auto', 'bias_wd_mult': 'auto', 'use_lr_scheduler': 'true', 'lr_scheduler_step': 'auto', 'lr_scheduler_factor': 'auto', 'lr_scheduler_minimum_lr': 'auto', 'positive_example_weight_mult': '1.0', 'balance_multiclass_weights': 'false', 'normalize_data': 'true', 'normalize_label': 'auto', 'unbias_data': 'auto', 'unbias_label': 'auto', 'num_point_for_scaler': '10000', '_kvstore': 'auto', '_num_gpus': 'auto', '_num_kv_servers': 'auto', '_log_level': 'info', '_tuning_objective_metric': '', 'early_stopping_patience': '3', 'early_stopping_tolerance': '0.001', '_enable_profiler': 'false'}\u001b[0m\n",
      "\u001b[34m[02/04/2022 06:46:38 INFO 139654967449408] Merging with provided configuration from /opt/ml/input/config/hyperparameters.json: {'feature_dim': 'auto', 'num_models': '4', 'predictor_type': 'regressor', 'normalize_label': 'false', 'epochs': '3', 'mini_batch_size': '16'}\u001b[0m\n",
      "\u001b[34m[02/04/2022 06:46:38 INFO 139654967449408] Final configuration: {'mini_batch_size': '16', 'epochs': '3', 'feature_dim': 'auto', 'use_bias': 'true', 'binary_classifier_model_selection_criteria': 'accuracy', 'f_beta': '1.0', 'target_recall': '0.8', 'target_precision': '0.8', 'num_models': '4', 'num_calibration_samples': '10000000', 'init_method': 'uniform', 'init_scale': '0.07', 'init_sigma': '0.01', 'init_bias': '0.0', 'optimizer': 'auto', 'loss': 'auto', 'margin': '1.0', 'quantile': '0.5', 'loss_insensitivity': '0.01', 'huber_delta': '1.0', 'num_classes': '1', 'accuracy_top_k': '3', 'wd': 'auto', 'l1': 'auto', 'momentum': 'auto', 'learning_rate': 'auto', 'beta_1': 'auto', 'beta_2': 'auto', 'bias_lr_mult': 'auto', 'bias_wd_mult': 'auto', 'use_lr_scheduler': 'true', 'lr_scheduler_step': 'auto', 'lr_scheduler_factor': 'auto', 'lr_scheduler_minimum_lr': 'auto', 'positive_example_weight_mult': '1.0', 'balance_multiclass_weights': 'false', 'normalize_data': 'true', 'normalize_label': 'false', 'unbias_data': 'auto', 'unbias_label': 'auto', 'num_point_for_scaler': '10000', '_kvstore': 'auto', '_num_gpus': 'auto', '_num_kv_servers': 'auto', '_log_level': 'info', '_tuning_objective_metric': '', 'early_stopping_patience': '3', 'early_stopping_tolerance': '0.001', '_enable_profiler': 'false', 'predictor_type': 'regressor'}\u001b[0m\n",
      "\u001b[34m[02/04/2022 06:46:38 WARNING 139654967449408] Loggers have already been setup.\u001b[0m\n",
      "\u001b[34mProcess 1 is a worker.\u001b[0m\n",
      "\u001b[34m[02/04/2022 06:46:38 INFO 139654967449408] Using default worker.\u001b[0m\n",
      "\u001b[34m[02/04/2022 06:46:38 INFO 139654967449408] Checkpoint loading and saving are disabled.\u001b[0m\n",
      "\u001b[34m[02/04/2022 06:46:38 INFO 139654967449408] Create Store: local\u001b[0m\n",
      "\u001b[34m[02/04/2022 06:46:39 INFO 139654967449408] Scaler algorithm parameters\n",
      " <algorithm.scaler.ScalerAlgorithmStable object at 0x7f0396b23d90>\u001b[0m\n",
      "\u001b[34m[02/04/2022 06:46:39 INFO 139654967449408] Scaling model computed with parameters:\n",
      " {'stdev_label': None, 'stdev_weight': \u001b[0m\n",
      "\u001b[34m[3483.7368]\u001b[0m\n",
      "\u001b[34m<NDArray 1 @cpu(0)>, 'mean_label': \u001b[0m\n",
      "\u001b[34m[3.0049996]\u001b[0m\n",
      "\u001b[34m<NDArray 1 @cpu(0)>, 'mean_weight': \u001b[0m\n",
      "\u001b[34m[8583.817]\u001b[0m\n",
      "\u001b[34m<NDArray 1 @cpu(0)>}\u001b[0m\n",
      "\u001b[34m[02/04/2022 06:46:39 INFO 139654967449408] nvidia-smi: took 0.056 seconds to run.\u001b[0m\n",
      "\u001b[34m[02/04/2022 06:46:39 INFO 139654967449408] nvidia-smi identified 0 GPUs.\u001b[0m\n",
      "\u001b[34m[02/04/2022 06:46:39 INFO 139654967449408] Number of GPUs being used: 0\u001b[0m\n",
      "\u001b[34m#metrics {\"StartTime\": 1643957199.50275, \"EndTime\": 1643957199.5027893, \"Dimensions\": {\"Algorithm\": \"Linear Learner\", \"Host\": \"algo-1\", \"Operation\": \"training\", \"Meta\": \"init_train_data_iter\"}, \"Metrics\": {\"Total Records Seen\": {\"sum\": 2016.0, \"count\": 1, \"min\": 2016, \"max\": 2016}, \"Total Batches Seen\": {\"sum\": 126.0, \"count\": 1, \"min\": 126, \"max\": 126}, \"Max Records Seen Between Resets\": {\"sum\": 2000.0, \"count\": 1, \"min\": 2000, \"max\": 2000}, \"Max Batches Seen Between Resets\": {\"sum\": 125.0, \"count\": 1, \"min\": 125, \"max\": 125}, \"Reset Count\": {\"sum\": 2.0, \"count\": 1, \"min\": 2, \"max\": 2}, \"Number of Records Since Last Reset\": {\"sum\": 0.0, \"count\": 1, \"min\": 0, \"max\": 0}, \"Number of Batches Since Last Reset\": {\"sum\": 0.0, \"count\": 1, \"min\": 0, \"max\": 0}}}\u001b[0m\n",
      "\u001b[34m#metrics {\"StartTime\": 1643957200.2572725, \"EndTime\": 1643957200.2573202, \"Dimensions\": {\"Algorithm\": \"Linear Learner\", \"Host\": \"algo-1\", \"Operation\": \"training\", \"epoch\": 0, \"model\": 0}, \"Metrics\": {\"train_mse_objective\": {\"sum\": 2.0048043880462645, \"count\": 1, \"min\": 2.0048043880462645, \"max\": 2.0048043880462645}}}\u001b[0m\n",
      "\u001b[34m#metrics {\"StartTime\": 1643957200.257421, \"EndTime\": 1643957200.2574384, \"Dimensions\": {\"Algorithm\": \"Linear Learner\", \"Host\": \"algo-1\", \"Operation\": \"training\", \"epoch\": 0, \"model\": 1}, \"Metrics\": {\"train_mse_objective\": {\"sum\": 2.0043869981765745, \"count\": 1, \"min\": 2.0043869981765745, \"max\": 2.0043869981765745}}}\u001b[0m\n",
      "\u001b[34m#metrics {\"StartTime\": 1643957200.2574914, \"EndTime\": 1643957200.2575076, \"Dimensions\": {\"Algorithm\": \"Linear Learner\", \"Host\": \"algo-1\", \"Operation\": \"training\", \"epoch\": 0, \"model\": 2}, \"Metrics\": {\"train_mse_objective\": {\"sum\": 2.0047276315689087, \"count\": 1, \"min\": 2.0047276315689087, \"max\": 2.0047276315689087}}}\u001b[0m\n",
      "\u001b[34m#metrics {\"StartTime\": 1643957200.2575626, \"EndTime\": 1643957200.25758, \"Dimensions\": {\"Algorithm\": \"Linear Learner\", \"Host\": \"algo-1\", \"Operation\": \"training\", \"epoch\": 0, \"model\": 3}, \"Metrics\": {\"train_mse_objective\": {\"sum\": 2.0044085397720335, \"count\": 1, \"min\": 2.0044085397720335, \"max\": 2.0044085397720335}}}\u001b[0m\n",
      "\u001b[34m[02/04/2022 06:46:40 INFO 139654967449408] #quality_metric: host=algo-1, epoch=0, train mse_objective <loss>=2.0048043880462645\u001b[0m\n",
      "\u001b[34m[02/04/2022 06:46:40 INFO 139654967449408] #early_stopping_criteria_metric: host=algo-1, epoch=0, criteria=mse_objective, value=2.0043869981765745\u001b[0m\n",
      "\u001b[34m[02/04/2022 06:46:40 INFO 139654967449408] Epoch 0: Loss improved. Updating best model\u001b[0m\n",
      "\u001b[34m[02/04/2022 06:46:40 INFO 139654967449408] Saving model for epoch: 0\u001b[0m\n",
      "\u001b[34m[02/04/2022 06:46:40 INFO 139654967449408] Saved checkpoint to \"/tmp/tmp0pw_tj3o/mx-mod-0000.params\"\u001b[0m\n",
      "\u001b[34m[02/04/2022 06:46:40 INFO 139654967449408] #progress_metric: host=algo-1, completed 33.333333333333336 % of epochs\u001b[0m\n",
      "\u001b[34m#metrics {\"StartTime\": 1643957199.5030837, \"EndTime\": 1643957200.270192, \"Dimensions\": {\"Algorithm\": \"Linear Learner\", \"Host\": \"algo-1\", \"Operation\": \"training\", \"epoch\": 0, \"Meta\": \"training_data_iter\"}, \"Metrics\": {\"Total Records Seen\": {\"sum\": 4016.0, \"count\": 1, \"min\": 4016, \"max\": 4016}, \"Total Batches Seen\": {\"sum\": 251.0, \"count\": 1, \"min\": 251, \"max\": 251}, \"Max Records Seen Between Resets\": {\"sum\": 2000.0, \"count\": 1, \"min\": 2000, \"max\": 2000}, \"Max Batches Seen Between Resets\": {\"sum\": 125.0, \"count\": 1, \"min\": 125, \"max\": 125}, \"Reset Count\": {\"sum\": 3.0, \"count\": 1, \"min\": 3, \"max\": 3}, \"Number of Records Since Last Reset\": {\"sum\": 2000.0, \"count\": 1, \"min\": 2000, \"max\": 2000}, \"Number of Batches Since Last Reset\": {\"sum\": 125.0, \"count\": 1, \"min\": 125, \"max\": 125}}}\u001b[0m\n",
      "\u001b[34m[02/04/2022 06:46:40 INFO 139654967449408] #throughput_metric: host=algo-1, train throughput=2606.713696809089 records/second\u001b[0m\n",
      "\u001b[34m#metrics {\"StartTime\": 1643957201.0279593, \"EndTime\": 1643957201.027998, \"Dimensions\": {\"Algorithm\": \"Linear Learner\", \"Host\": \"algo-1\", \"Operation\": \"training\", \"epoch\": 1, \"model\": 0}, \"Metrics\": {\"train_mse_objective\": {\"sum\": 2.0085177125930787, \"count\": 1, \"min\": 2.0085177125930787, \"max\": 2.0085177125930787}}}\u001b[0m\n",
      "\u001b[34m#metrics {\"StartTime\": 1643957201.0280828, \"EndTime\": 1643957201.028102, \"Dimensions\": {\"Algorithm\": \"Linear Learner\", \"Host\": \"algo-1\", \"Operation\": \"training\", \"epoch\": 1, \"model\": 1}, \"Metrics\": {\"train_mse_objective\": {\"sum\": 2.0082586164474487, \"count\": 1, \"min\": 2.0082586164474487, \"max\": 2.0082586164474487}}}\u001b[0m\n",
      "\u001b[34m#metrics {\"StartTime\": 1643957201.0281577, \"EndTime\": 1643957201.028174, \"Dimensions\": {\"Algorithm\": \"Linear Learner\", \"Host\": \"algo-1\", \"Operation\": \"training\", \"epoch\": 1, \"model\": 2}, \"Metrics\": {\"train_mse_objective\": {\"sum\": 2.008506302833557, \"count\": 1, \"min\": 2.008506302833557, \"max\": 2.008506302833557}}}\u001b[0m\n",
      "\u001b[34m#metrics {\"StartTime\": 1643957201.0282304, \"EndTime\": 1643957201.0282483, \"Dimensions\": {\"Algorithm\": \"Linear Learner\", \"Host\": \"algo-1\", \"Operation\": \"training\", \"epoch\": 1, \"model\": 3}, \"Metrics\": {\"train_mse_objective\": {\"sum\": 2.0082414693832398, \"count\": 1, \"min\": 2.0082414693832398, \"max\": 2.0082414693832398}}}\u001b[0m\n",
      "\u001b[34m[02/04/2022 06:46:41 INFO 139654967449408] #quality_metric: host=algo-1, epoch=1, train mse_objective <loss>=2.0085177125930787\u001b[0m\n",
      "\u001b[34m[02/04/2022 06:46:41 INFO 139654967449408] #early_stopping_criteria_metric: host=algo-1, epoch=1, criteria=mse_objective, value=2.0082414693832398\u001b[0m\n",
      "\u001b[34m[02/04/2022 06:46:41 INFO 139654967449408] Saving model for epoch: 1\u001b[0m\n",
      "\u001b[34m[02/04/2022 06:46:41 INFO 139654967449408] Saved checkpoint to \"/tmp/tmphgk4ecec/mx-mod-0000.params\"\u001b[0m\n",
      "\u001b[34m[02/04/2022 06:46:41 INFO 139654967449408] #progress_metric: host=algo-1, completed 66.66666666666667 % of epochs\u001b[0m\n",
      "\u001b[34m#metrics {\"StartTime\": 1643957200.2704902, \"EndTime\": 1643957201.0353892, \"Dimensions\": {\"Algorithm\": \"Linear Learner\", \"Host\": \"algo-1\", \"Operation\": \"training\", \"epoch\": 1, \"Meta\": \"training_data_iter\"}, \"Metrics\": {\"Total Records Seen\": {\"sum\": 6016.0, \"count\": 1, \"min\": 6016, \"max\": 6016}, \"Total Batches Seen\": {\"sum\": 376.0, \"count\": 1, \"min\": 376, \"max\": 376}, \"Max Records Seen Between Resets\": {\"sum\": 2000.0, \"count\": 1, \"min\": 2000, \"max\": 2000}, \"Max Batches Seen Between Resets\": {\"sum\": 125.0, \"count\": 1, \"min\": 125, \"max\": 125}, \"Reset Count\": {\"sum\": 4.0, \"count\": 1, \"min\": 4, \"max\": 4}, \"Number of Records Since Last Reset\": {\"sum\": 2000.0, \"count\": 1, \"min\": 2000, \"max\": 2000}, \"Number of Batches Since Last Reset\": {\"sum\": 125.0, \"count\": 1, \"min\": 125, \"max\": 125}}}\u001b[0m\n",
      "\u001b[34m[02/04/2022 06:46:41 INFO 139654967449408] #throughput_metric: host=algo-1, train throughput=2614.227998509113 records/second\u001b[0m\n",
      "\u001b[34m#metrics {\"StartTime\": 1643957201.7277691, \"EndTime\": 1643957201.727808, \"Dimensions\": {\"Algorithm\": \"Linear Learner\", \"Host\": \"algo-1\", \"Operation\": \"training\", \"epoch\": 2, \"model\": 0}, \"Metrics\": {\"train_mse_objective\": {\"sum\": 2.0078396654129027, \"count\": 1, \"min\": 2.0078396654129027, \"max\": 2.0078396654129027}}}\u001b[0m\n",
      "\u001b[34m#metrics {\"StartTime\": 1643957201.727889, \"EndTime\": 1643957201.7279081, \"Dimensions\": {\"Algorithm\": \"Linear Learner\", \"Host\": \"algo-1\", \"Operation\": \"training\", \"epoch\": 2, \"model\": 1}, \"Metrics\": {\"train_mse_objective\": {\"sum\": 2.0082631101608275, \"count\": 1, \"min\": 2.0082631101608275, \"max\": 2.0082631101608275}}}\u001b[0m\n",
      "\u001b[34m#metrics {\"StartTime\": 1643957201.7279646, \"EndTime\": 1643957201.7279828, \"Dimensions\": {\"Algorithm\": \"Linear Learner\", \"Host\": \"algo-1\", \"Operation\": \"training\", \"epoch\": 2, \"model\": 2}, \"Metrics\": {\"train_mse_objective\": {\"sum\": 2.0078361806869505, \"count\": 1, \"min\": 2.0078361806869505, \"max\": 2.0078361806869505}}}\u001b[0m\n",
      "\u001b[34m#metrics {\"StartTime\": 1643957201.7280393, \"EndTime\": 1643957201.7280571, \"Dimensions\": {\"Algorithm\": \"Linear Learner\", \"Host\": \"algo-1\", \"Operation\": \"training\", \"epoch\": 2, \"model\": 3}, \"Metrics\": {\"train_mse_objective\": {\"sum\": 2.0082592668533326, \"count\": 1, \"min\": 2.0082592668533326, \"max\": 2.0082592668533326}}}\u001b[0m\n",
      "\u001b[34m[02/04/2022 06:46:41 INFO 139654967449408] #quality_metric: host=algo-1, epoch=2, train mse_objective <loss>=2.0078396654129027\u001b[0m\n",
      "\u001b[34m[02/04/2022 06:46:41 INFO 139654967449408] #early_stopping_criteria_metric: host=algo-1, epoch=2, criteria=mse_objective, value=2.0078361806869505\u001b[0m\n",
      "\u001b[34m[02/04/2022 06:46:41 INFO 139654967449408] Saving model for epoch: 2\u001b[0m\n",
      "\u001b[34m[02/04/2022 06:46:41 INFO 139654967449408] Saved checkpoint to \"/tmp/tmp9anaqr1_/mx-mod-0000.params\"\u001b[0m\n",
      "\u001b[34m[02/04/2022 06:46:41 INFO 139654967449408] #progress_metric: host=algo-1, completed 100.0 % of epochs\u001b[0m\n",
      "\u001b[34m#metrics {\"StartTime\": 1643957201.035683, \"EndTime\": 1643957201.734903, \"Dimensions\": {\"Algorithm\": \"Linear Learner\", \"Host\": \"algo-1\", \"Operation\": \"training\", \"epoch\": 2, \"Meta\": \"training_data_iter\"}, \"Metrics\": {\"Total Records Seen\": {\"sum\": 8016.0, \"count\": 1, \"min\": 8016, \"max\": 8016}, \"Total Batches Seen\": {\"sum\": 501.0, \"count\": 1, \"min\": 501, \"max\": 501}, \"Max Records Seen Between Resets\": {\"sum\": 2000.0, \"count\": 1, \"min\": 2000, \"max\": 2000}, \"Max Batches Seen Between Resets\": {\"sum\": 125.0, \"count\": 1, \"min\": 125, \"max\": 125}, \"Reset Count\": {\"sum\": 5.0, \"count\": 1, \"min\": 5, \"max\": 5}, \"Number of Records Since Last Reset\": {\"sum\": 2000.0, \"count\": 1, \"min\": 2000, \"max\": 2000}, \"Number of Batches Since Last Reset\": {\"sum\": 125.0, \"count\": 1, \"min\": 125, \"max\": 125}}}\u001b[0m\n",
      "\u001b[34m[02/04/2022 06:46:41 INFO 139654967449408] #throughput_metric: host=algo-1, train throughput=2859.656538825512 records/second\u001b[0m\n",
      "\u001b[34m[02/04/2022 06:46:41 WARNING 139654967449408] wait_for_all_workers will not sync workers since the kv store is not running distributed\u001b[0m\n",
      "\u001b[34m[02/04/2022 06:46:41 WARNING 139654967449408] wait_for_all_workers will not sync workers since the kv store is not running distributed\u001b[0m\n",
      "\u001b[34m[02/04/2022 06:46:42 INFO 139654967449408] #train_score (algo-1) : ('mse_objective', 2.002589530944824)\u001b[0m\n",
      "\u001b[34m[02/04/2022 06:46:42 INFO 139654967449408] #train_score (algo-1) : ('mse', 2.002589530944824)\u001b[0m\n",
      "\u001b[34m[02/04/2022 06:46:42 INFO 139654967449408] #train_score (algo-1) : ('absolute_loss', 1.2189862775802611)\u001b[0m\n",
      "\u001b[34m[02/04/2022 06:46:42 INFO 139654967449408] #train_score (algo-1) : ('rmse', 1.4151288036588132)\u001b[0m\n",
      "\u001b[34m[02/04/2022 06:46:42 INFO 139654967449408] #train_score (algo-1) : ('r2', -0.005328646048436303)\u001b[0m\n",
      "\u001b[34m[02/04/2022 06:46:42 INFO 139654967449408] #train_score (algo-1) : ('mae', 1.218986279964447)\u001b[0m\n",
      "\u001b[34m[02/04/2022 06:46:42 INFO 139654967449408] #quality_metric: host=algo-1, train mse_objective <loss>=2.002589530944824\u001b[0m\n",
      "\u001b[34m[02/04/2022 06:46:42 INFO 139654967449408] #quality_metric: host=algo-1, train mse <loss>=2.002589530944824\u001b[0m\n",
      "\u001b[34m[02/04/2022 06:46:42 INFO 139654967449408] #quality_metric: host=algo-1, train absolute_loss <loss>=1.2189862775802611\u001b[0m\n",
      "\u001b[34m[02/04/2022 06:46:42 INFO 139654967449408] #quality_metric: host=algo-1, train rmse <loss>=1.4151288036588132\u001b[0m\n",
      "\u001b[34m[02/04/2022 06:46:42 INFO 139654967449408] #quality_metric: host=algo-1, train r2 <loss>=-0.005328646048436303\u001b[0m\n",
      "\u001b[34m[02/04/2022 06:46:42 INFO 139654967449408] #quality_metric: host=algo-1, train mae <loss>=1.218986279964447\u001b[0m\n",
      "\u001b[34m[02/04/2022 06:46:42 INFO 139654967449408] Best model found for hyperparameters: {\"optimizer\": \"adam\", \"learning_rate\": 0.005, \"wd\": 0.0001, \"l1\": 0.0, \"lr_scheduler_step\": 100, \"lr_scheduler_factor\": 0.99, \"lr_scheduler_minimum_lr\": 1e-05}\u001b[0m\n",
      "\u001b[34m[02/04/2022 06:46:42 INFO 139654967449408] Saved checkpoint to \"/tmp/tmptbi6656l/mx-mod-0000.params\"\u001b[0m\n",
      "\u001b[34m[02/04/2022 06:46:42 INFO 139654967449408] Test data is not provided.\u001b[0m\n",
      "\u001b[34m#metrics {\"StartTime\": 1643957198.5608602, \"EndTime\": 1643957202.2798412, \"Dimensions\": {\"Algorithm\": \"Linear Learner\", \"Host\": \"algo-1\", \"Operation\": \"training\"}, \"Metrics\": {\"initialize.time\": {\"sum\": 934.3833923339844, \"count\": 1, \"min\": 934.3833923339844, \"max\": 934.3833923339844}, \"epochs\": {\"sum\": 3.0, \"count\": 1, \"min\": 3, \"max\": 3}, \"check_early_stopping.time\": {\"sum\": 1.4564990997314453, \"count\": 3, \"min\": 0.23436546325683594, \"max\": 0.9729862213134766}, \"update.time\": {\"sum\": 2217.8986072540283, \"count\": 3, \"min\": 696.1886882781982, \"max\": 761.7790699005127}, \"finalize.time\": {\"sum\": 540.6627655029297, \"count\": 1, \"min\": 540.6627655029297, \"max\": 540.6627655029297}, \"setuptime\": {\"sum\": 33.42795372009277, \"count\": 1, \"min\": 33.42795372009277, \"max\": 33.42795372009277}, \"totaltime\": {\"sum\": 4042.0966148376465, \"count\": 1, \"min\": 4042.0966148376465, \"max\": 4042.0966148376465}}}\u001b[0m\n",
      "\n",
      "2022-02-04 06:47:03 Completed - Training job completed\n",
      "Training seconds: 70\n",
      "Billable seconds: 70\n"
     ]
    }
   ],
   "source": [
    "linear.fit({'train': s3_input_train})"
   ]
  },
  {
   "cell_type": "code",
   "execution_count": 72,
   "id": "e4207f1a-a342-47e7-af79-fca891e5e2a5",
   "metadata": {},
   "outputs": [
    {
     "name": "stdout",
     "output_type": "stream",
     "text": [
      "-------!"
     ]
    }
   ],
   "source": [
    "linear_predictor = linear.deploy(initial_instance_count=1,instance_type='ml.m4.xlarge')"
   ]
  },
  {
   "cell_type": "code",
   "execution_count": 73,
   "id": "9de83e07-d496-430e-98bf-6f3f8c7bc547",
   "metadata": {},
   "outputs": [
    {
     "name": "stdout",
     "output_type": "stream",
     "text": [
      "(0,)\n"
     ]
    },
    {
     "name": "stderr",
     "output_type": "stream",
     "text": [
      "/tmp/ipykernel_95/1584445340.py:6: DeprecationWarning: string or file could not be read to its end due to unmatched data; this will raise a ValueError in the future.\n",
      "  predictions_array = np.fromstring(predictions[1:], sep=',') # and turn the prediction into an array\n"
     ]
    }
   ],
   "source": [
    "from sagemaker.serializers import CSVSerializer\n",
    "\n",
    "test_data_array = test_data.drop(['Y'], axis=1).values #load the data into an array\n",
    "linear_predictor.serializer = CSVSerializer() # set the serializer type\n",
    "predictions = linear_predictor.predict(test_data_array).decode('utf-8') # predict!\n",
    "predictions_array = np.fromstring(predictions[1:], sep=',') # and turn the prediction into an array\n",
    "print(predictions_array.shape)"
   ]
  },
  {
   "cell_type": "code",
   "execution_count": 95,
   "id": "fdb8843f-e662-4f5f-b6cf-ddfdf3302a53",
   "metadata": {},
   "outputs": [
    {
     "data": {
      "text/plain": [
       "'{\"predictions\": [{\"score\": 3.0866589546203613}, {\"score\": 3.1194138526916504}, {\"score\": 3.0979819297790527}, {\"score\": 3.0957603454589844}, {\"score\": 3.113304615020752}, {\"score\": 3.1035895347595215}, {\"score\": 3.1388349533081055}, {\"score\": 3.1315877437591553}, {\"score\": 3.12668776512146}, {\"score\": 3.1188228130340576}, {\"score\": 3.097766876220703}, {\"score\": 3.128492832183838}, {\"score\": 3.1184017658233643}, {\"score\": 3.1304233074188232}, {\"score\": 3.1400845050811768}, {\"score\": 3.0917606353759766}, {\"score\": 3.097520589828491}, {\"score\": 3.0867486000061035}, {\"score\": 3.0861709117889404}, {\"score\": 3.0976550579071045}, {\"score\": 3.1116697788238525}, {\"score\": 3.089019536972046}, {\"score\": 3.0875728130340576}, {\"score\": 3.093059539794922}, {\"score\": 3.1078670024871826}, {\"score\": 3.0913798809051514}, {\"score\": 3.0885581970214844}, {\"score\": 3.089404582977295}, {\"score\": 3.0984702110290527}, {\"score\": 3.089261293411255}, {\"score\": 3.111799716949463}, {\"score\": 3.1038224697113037}, {\"score\": 3.116708517074585}, {\"score\": 3.104046583175659}, {\"score\": 3.0975115299224854}, {\"score\": 3.1041762828826904}, {\"score\": 3.127220869064331}, {\"score\": 3.1331286430358887}, {\"score\": 3.123332977294922}, {\"score\": 3.096808433532715}, {\"score\": 3.0905601978302}, {\"score\": 3.1318252086639404}, {\"score\": 3.129854440689087}, {\"score\": 3.117680549621582}, {\"score\": 3.136613368988037}, {\"score\": 3.0894224643707275}, {\"score\": 3.0868873596191406}, {\"score\": 3.1031014919281006}, {\"score\": 3.1309831142425537}, {\"score\": 3.1298859119415283}, {\"score\": 3.115481376647949}, {\"score\": 3.0874741077423096}, {\"score\": 3.087787628173828}, {\"score\": 3.1292498111724854}, {\"score\": 3.1220834255218506}, {\"score\": 3.0854227542877197}, {\"score\": 3.1144018173217773}, {\"score\": 3.117976188659668}, {\"score\": 3.0982015132904053}, {\"score\": 3.1251022815704346}, {\"score\": 3.1068906784057617}, {\"score\": 3.1236824989318848}, {\"score\": 3.1075310707092285}, {\"score\": 3.136662483215332}, {\"score\": 3.1122922897338867}, {\"score\": 3.129854440689087}, {\"score\": 3.1108052730560303}, {\"score\": 3.099679470062256}, {\"score\": 3.125657558441162}, {\"score\": 3.1007230281829834}, {\"score\": 3.1143884658813477}, {\"score\": 3.0978879928588867}, {\"score\": 3.0984926223754883}, {\"score\": 3.125621795654297}, {\"score\": 3.1287930011749268}, {\"score\": 3.1372268199920654}, {\"score\": 3.113788366317749}, {\"score\": 3.1218819618225098}, {\"score\": 3.0944793224334717}, {\"score\": 3.095733404159546}, {\"score\": 3.1144423484802246}, {\"score\": 3.0999348163604736}, {\"score\": 3.093592405319214}, {\"score\": 3.0894851684570312}, {\"score\": 3.0968174934387207}, {\"score\": 3.0923473834991455}, {\"score\": 3.099813938140869}, {\"score\": 3.127610445022583}, {\"score\": 3.088710308074951}, {\"score\": 3.1000959873199463}, {\"score\": 3.1139047145843506}, {\"score\": 3.1309564113616943}, {\"score\": 3.086148500442505}, {\"score\": 3.110034942626953}, {\"score\": 3.101269483566284}, {\"score\": 3.087254762649536}, {\"score\": 3.09733247756958}, {\"score\": 3.1069982051849365}, {\"score\": 3.096064805984497}, {\"score\": 3.1116786003112793}, {\"score\": 3.1199827194213867}, {\"score\": 3.13267183303833}, {\"score\": 3.107016086578369}, {\"score\": 3.0928714275360107}, {\"score\": 3.088419198989868}, {\"score\": 3.087648868560791}, {\"score\": 3.0922129154205322}, {\"score\": 3.091339588165283}, {\"score\": 3.1280672550201416}, {\"score\": 3.093825340270996}, {\"score\": 3.0832862854003906}, {\"score\": 3.0865156650543213}, {\"score\": 3.112968683242798}, {\"score\": 3.115297794342041}, {\"score\": 3.0954647064208984}, {\"score\": 3.1057932376861572}, {\"score\": 3.097104072570801}, {\"score\": 3.097050189971924}, {\"score\": 3.0915770530700684}, {\"score\": 3.130642890930176}, {\"score\": 3.1212637424468994}, {\"score\": 3.0832414627075195}, {\"score\": 3.112811803817749}, {\"score\": 3.086085796356201}, {\"score\": 3.1169235706329346}, {\"score\": 3.1349291801452637}, {\"score\": 3.088141679763794}, {\"score\": 3.097628116607666}, {\"score\": 3.130871295928955}, {\"score\": 3.113210439682007}, {\"score\": 3.092074155807495}, {\"score\": 3.117053508758545}, {\"score\": 3.1378047466278076}, {\"score\": 3.0865559577941895}, {\"score\": 3.085946798324585}, {\"score\": 3.1200544834136963}, {\"score\": 3.0978341102600098}, {\"score\": 3.11631441116333}, {\"score\": 3.0939688682556152}, {\"score\": 3.1174206733703613}, {\"score\": 3.1339080333709717}, {\"score\": 3.125509738922119}, {\"score\": 3.09275484085083}, {\"score\": 3.1067607402801514}, {\"score\": 3.0898122787475586}, {\"score\": 3.1053991317749023}, {\"score\": 3.1323537826538086}, {\"score\": 3.1290080547332764}, {\"score\": 3.1135642528533936}, {\"score\": 3.130727767944336}, {\"score\": 3.1356279850006104}, {\"score\": 3.1150827407836914}, {\"score\": 3.096266508102417}, {\"score\": 3.0916531085968018}, {\"score\": 3.089704751968384}, {\"score\": 3.124551296234131}, {\"score\": 3.0950615406036377}, {\"score\": 3.118648052215576}, {\"score\": 3.0978565216064453}, {\"score\": 3.0898211002349854}, {\"score\": 3.095487117767334}, {\"score\": 3.1046690940856934}, {\"score\": 3.1117055416107178}, {\"score\": 3.12414813041687}, {\"score\": 3.0936508178710938}, {\"score\": 3.0927236080169678}, {\"score\": 3.1160054206848145}, {\"score\": 3.0829503536224365}, {\"score\": 3.112417697906494}, {\"score\": 3.085418462753296}, {\"score\": 3.1244797706604004}, {\"score\": 3.120309829711914}, {\"score\": 3.1035313606262207}, {\"score\": 3.0905020236968994}, {\"score\": 3.127516508102417}, {\"score\": 3.093149185180664}, {\"score\": 3.1293931007385254}, {\"score\": 3.113295555114746}, {\"score\": 3.1073789596557617}, {\"score\": 3.090676784515381}, {\"score\": 3.108874797821045}, {\"score\": 3.114518404006958}, {\"score\": 3.1354665756225586}, {\"score\": 3.090484142303467}, {\"score\": 3.110760450363159}, {\"score\": 3.1008172035217285}, {\"score\": 3.1146304607391357}, {\"score\": 3.116359233856201}, {\"score\": 3.1215057373046875}, {\"score\": 3.1316237449645996}, {\"score\": 3.0840566158294678}, {\"score\": 3.1050901412963867}, {\"score\": 3.087456226348877}, {\"score\": 3.090376615524292}, {\"score\": 3.0890374183654785}, {\"score\": 3.102993965148926}, {\"score\": 3.087953567504883}, {\"score\": 3.1288914680480957}, {\"score\": 3.1247305870056152}, {\"score\": 3.0953214168548584}, {\"score\": 3.1120729446411133}, {\"score\": 3.100297689437866}, {\"score\": 3.1046242713928223}, {\"score\": 3.0917561054229736}, {\"score\": 3.136174440383911}, {\"score\": 3.103137254714966}, {\"score\": 3.0867888927459717}, {\"score\": 3.1019279956817627}, {\"score\": 3.0991241931915283}, {\"score\": 3.1064202785491943}, {\"score\": 3.1365952491760254}, {\"score\": 3.12746262550354}, {\"score\": 3.1308531761169434}, {\"score\": 3.094667434692383}, {\"score\": 3.1321074962615967}, {\"score\": 3.1350815296173096}, {\"score\": 3.1039881706237793}, {\"score\": 3.0912232398986816}, {\"score\": 3.0991508960723877}, {\"score\": 3.0934760570526123}, {\"score\": 3.0920517444610596}, {\"score\": 3.087259292602539}, {\"score\": 3.0886566638946533}, {\"score\": 3.1092467308044434}, {\"score\": 3.115351438522339}, {\"score\": 3.1103572845458984}, {\"score\": 3.0853466987609863}, {\"score\": 3.096656084060669}, {\"score\": 3.1088523864746094}, {\"score\": 3.1105008125305176}, {\"score\": 3.091249942779541}, {\"score\": 3.0939149856567383}, {\"score\": 3.1278254985809326}, {\"score\": 3.120945692062378}, {\"score\": 3.095097541809082}, {\"score\": 3.121734142303467}, {\"score\": 3.129415512084961}, {\"score\": 3.1056411266326904}, {\"score\": 3.086533546447754}, {\"score\": 3.08872389793396}, {\"score\": 3.087116003036499}, {\"score\": 3.1121041774749756}, {\"score\": 3.099760055541992}, {\"score\": 3.085937976837158}, {\"score\": 3.0891225337982178}, {\"score\": 3.092620611190796}, {\"score\": 3.1231672763824463}, {\"score\": 3.1211071014404297}, {\"score\": 3.1164309978485107}, {\"score\": 3.1291961669921875}, {\"score\": 3.105609655380249}, {\"score\": 3.0952587127685547}, {\"score\": 3.1309518814086914}, {\"score\": 3.11384654045105}, {\"score\": 3.1326403617858887}, {\"score\": 3.08837890625}, {\"score\": 3.1045525074005127}, {\"score\": 3.1367342472076416}, {\"score\": 3.1213982105255127}, {\"score\": 3.1067652702331543}, {\"score\": 3.1241750717163086}, {\"score\": 3.1021652221679688}, {\"score\": 3.11885404586792}, {\"score\": 3.098259687423706}, {\"score\": 3.1117682456970215}, {\"score\": 3.0919666290283203}, {\"score\": 3.119817018508911}, {\"score\": 3.1176536083221436}, {\"score\": 3.1288602352142334}, {\"score\": 3.125415802001953}, {\"score\": 3.091787576675415}, {\"score\": 3.129899263381958}, {\"score\": 3.1261188983917236}, {\"score\": 3.116417407989502}, {\"score\": 3.093287944793701}, {\"score\": 3.0873847007751465}, {\"score\": 3.089780807495117}, {\"score\": 3.091397762298584}, {\"score\": 3.115405321121216}, {\"score\": 3.129903793334961}, {\"score\": 3.0838463306427}, {\"score\": 3.095097541809082}, {\"score\": 3.10235333442688}, {\"score\": 3.092607021331787}, {\"score\": 3.09860897064209}, {\"score\": 3.0840299129486084}, {\"score\": 3.123386859893799}, {\"score\": 3.1145317554473877}, {\"score\": 3.1194541454315186}, {\"score\": 3.1037509441375732}, {\"score\": 3.12717604637146}, {\"score\": 3.1371777057647705}, {\"score\": 3.1255366802215576}, {\"score\": 3.0853288173675537}, {\"score\": 3.1282644271850586}, {\"score\": 3.1131746768951416}, {\"score\": 3.087738513946533}, {\"score\": 3.1136226654052734}, {\"score\": 3.115870952606201}, {\"score\": 3.107947587966919}, {\"score\": 3.12265682220459}, {\"score\": 3.0881056785583496}, {\"score\": 3.0950212478637695}, {\"score\": 3.108673334121704}, {\"score\": 3.1175642013549805}, {\"score\": 3.1097571849823}, {\"score\": 3.085996150970459}, {\"score\": 3.086237907409668}, {\"score\": 3.1261682510375977}, {\"score\": 3.112269878387451}, {\"score\": 3.0863454341888428}, {\"score\": 3.1257426738739014}, {\"score\": 3.0962307453155518}, {\"score\": 3.090322732925415}, {\"score\": 3.131887912750244}, {\"score\": 3.1280808448791504}, {\"score\": 3.101999521255493}, {\"score\": 3.0951826572418213}, {\"score\": 3.10269832611084}, {\"score\": 3.097525119781494}, {\"score\": 3.109009265899658}, {\"score\": 3.088477611541748}, {\"score\": 3.0957961082458496}, {\"score\": 3.0911693572998047}, {\"score\": 3.1365952491760254}, {\"score\": 3.1198527812957764}, {\"score\": 3.1066129207611084}, {\"score\": 3.087595224380493}, {\"score\": 3.090090036392212}, {\"score\": 3.092069625854492}, {\"score\": 3.0985910892486572}, {\"score\": 3.116462230682373}, {\"score\": 3.120789051055908}, {\"score\": 3.0949361324310303}, {\"score\": 3.1107068061828613}, {\"score\": 3.1042122840881348}, {\"score\": 3.0872859954833984}, {\"score\": 3.131404161453247}, {\"score\": 3.1383018493652344}, {\"score\": 3.1043643951416016}, {\"score\": 3.0900137424468994}, {\"score\": 3.10516619682312}, {\"score\": 3.1052870750427246}, {\"score\": 3.111015796661377}, {\"score\": 3.1371192932128906}, {\"score\": 3.090045213699341}, {\"score\": 3.1355204582214355}, {\"score\": 3.1053991317749023}, {\"score\": 3.1371238231658936}, {\"score\": 3.089261293411255}, {\"score\": 3.112807512283325}, {\"score\": 3.0975027084350586}, {\"score\": 3.119149684906006}, {\"score\": 3.097766876220703}, {\"score\": 3.114625930786133}, {\"score\": 3.129451274871826}, {\"score\": 3.105363368988037}, {\"score\": 3.094470500946045}, {\"score\": 3.1044719219207764}, {\"score\": 3.133209228515625}, {\"score\": 3.1232032775878906}, {\"score\": 3.1191630363464355}, {\"score\": 3.1037464141845703}, {\"score\": 3.115727663040161}, {\"score\": 3.112762689590454}, {\"score\": 3.1026759147644043}, {\"score\": 3.0875816345214844}, {\"score\": 3.1077864170074463}, {\"score\": 3.0977938175201416}, {\"score\": 3.1036927700042725}, {\"score\": 3.136178731918335}, {\"score\": 3.1281793117523193}, {\"score\": 3.1094391345977783}, {\"score\": 3.1022863388061523}, {\"score\": 3.123126983642578}, {\"score\": 3.0951602458953857}, {\"score\": 3.09197998046875}, {\"score\": 3.1219849586486816}, {\"score\": 3.091921806335449}, {\"score\": 3.089700222015381}, {\"score\": 3.1377196311950684}, {\"score\": 3.129267692565918}, {\"score\": 3.0922040939331055}, {\"score\": 3.0889971256256104}, {\"score\": 3.1166727542877197}, {\"score\": 3.1177029609680176}, {\"score\": 3.1127939224243164}, {\"score\": 3.0995407104492188}, {\"score\": 3.100198984146118}, {\"score\": 3.1258323192596436}, {\"score\": 3.129957437515259}, {\"score\": 3.1186928749084473}, {\"score\": 3.115060329437256}, {\"score\": 3.1154634952545166}, {\"score\": 3.101722002029419}, {\"score\": 3.0952677726745605}, {\"score\": 3.1031148433685303}, {\"score\": 3.1337153911590576}, {\"score\": 3.1047720909118652}, {\"score\": 3.0988688468933105}, {\"score\": 3.0976414680480957}, {\"score\": 3.138333320617676}, {\"score\": 3.0830624103546143}, {\"score\": 3.094564437866211}, {\"score\": 3.096011161804199}, {\"score\": 3.095088481903076}, {\"score\": 3.1349918842315674}, {\"score\": 3.108637571334839}, {\"score\": 3.1383557319641113}, {\"score\": 3.0939149856567383}, {\"score\": 3.105766534805298}, {\"score\": 3.0960066318511963}, {\"score\": 3.0900137424468994}, {\"score\": 3.122844934463501}, {\"score\": 3.113694190979004}, {\"score\": 3.0984342098236084}, {\"score\": 3.086390256881714}, {\"score\": 3.1019771099090576}, {\"score\": 3.0840747356414795}, {\"score\": 3.132085084915161}, {\"score\": 3.1214518547058105}, {\"score\": 3.1160054206848145}, {\"score\": 3.1026713848114014}, {\"score\": 3.1086912155151367}, {\"score\": 3.0959126949310303}, {\"score\": 3.1344587802886963}, {\"score\": 3.1321208477020264}, {\"score\": 3.09529447555542}, {\"score\": 3.100297689437866}, {\"score\": 3.0847599506378174}, {\"score\": 3.1299307346343994}, {\"score\": 3.086676836013794}, {\"score\": 3.0944972038269043}, {\"score\": 3.135059118270874}, {\"score\": 3.132295608520508}, {\"score\": 3.113748073577881}, {\"score\": 3.118795871734619}, {\"score\": 3.11729097366333}, {\"score\": 3.08695912361145}, {\"score\": 3.091402292251587}, {\"score\": 3.088759660720825}, {\"score\": 3.090269088745117}, {\"score\": 3.0888044834136963}, {\"score\": 3.092320442199707}, {\"score\": 3.100346803665161}, {\"score\": 3.1186704635620117}, {\"score\": 3.0941388607025146}, {\"score\": 3.1266610622406006}, {\"score\": 3.1244304180145264}, {\"score\": 3.1348977088928223}, {\"score\": 3.0919129848480225}, {\"score\": 3.09670090675354}, {\"score\": 3.117967128753662}, {\"score\": 3.123807907104492}, {\"score\": 3.1147243976593018}, {\"score\": 3.1061158180236816}, {\"score\": 3.093982219696045}, {\"score\": 3.124587059020996}, {\"score\": 3.0987613201141357}, {\"score\": 3.1142630577087402}, {\"score\": 3.0864484310150146}, {\"score\": 3.126974582672119}, {\"score\": 3.0895121097564697}, {\"score\": 3.1135284900665283}, {\"score\": 3.085400342941284}, {\"score\": 3.1193602085113525}, {\"score\": 3.103217840194702}, {\"score\": 3.133200168609619}, {\"score\": 3.087545871734619}, {\"score\": 3.1121177673339844}, {\"score\": 3.1270148754119873}, {\"score\": 3.0970458984375}, {\"score\": 3.116309881210327}, {\"score\": 3.107405662536621}, {\"score\": 3.113591194152832}, {\"score\": 3.1069579124450684}, {\"score\": 3.114222764968872}, {\"score\": 3.096024513244629}, {\"score\": 3.1053991317749023}, {\"score\": 3.101614475250244}, {\"score\": 3.1006693840026855}, {\"score\": 3.1149349212646484}, {\"score\": 3.0830490589141846}, {\"score\": 3.0985193252563477}, {\"score\": 3.0946316719055176}, {\"score\": 3.087451696395874}, {\"score\": 3.0887463092803955}, {\"score\": 3.099666118621826}, {\"score\": 3.1104605197906494}, {\"score\": 3.091688871383667}, {\"score\": 3.096118688583374}, {\"score\": 3.115145444869995}, {\"score\": 3.0882043838500977}, {\"score\": 3.110621690750122}, {\"score\": 3.0977535247802734}, {\"score\": 3.0882086753845215}, {\"score\": 3.130915880203247}, {\"score\": 3.1371865272521973}, {\"score\": 3.108279228210449}, {\"score\": 3.1112217903137207}]}'"
      ]
     },
     "execution_count": 95,
     "metadata": {},
     "output_type": "execute_result"
    }
   ],
   "source": [
    "predictions"
   ]
  },
  {
   "cell_type": "code",
   "execution_count": 96,
   "id": "cd6f51cd-53f5-4153-847b-0bb803dda7c1",
   "metadata": {},
   "outputs": [],
   "source": [
    "result = json.loads(predictions)\n",
    "test_pred = np.array([r[\"score\"] for r in result[\"predictions\"]])"
   ]
  },
  {
   "cell_type": "code",
   "execution_count": 99,
   "id": "91d1a3e5-444e-4afd-a324-76dff7ce7e40",
   "metadata": {},
   "outputs": [
    {
     "data": {
      "text/plain": [
       "(500,)"
      ]
     },
     "execution_count": 99,
     "metadata": {},
     "output_type": "execute_result"
    }
   ],
   "source": [
    "np.shape(test_pred)"
   ]
  },
  {
   "cell_type": "code",
   "execution_count": 100,
   "id": "218a6b40-ccff-4aab-b50f-d4a3ce32935d",
   "metadata": {},
   "outputs": [
    {
     "name": "stdout",
     "output_type": "stream",
     "text": [
      "Requirement already satisfied: sklearn in /home/studio-lab-user/.conda/envs/default/lib/python3.9/site-packages (0.0)\n",
      "Requirement already satisfied: scikit-learn in /home/studio-lab-user/.conda/envs/default/lib/python3.9/site-packages (from sklearn) (1.0.2)\n",
      "Requirement already satisfied: joblib>=0.11 in /home/studio-lab-user/.conda/envs/default/lib/python3.9/site-packages (from scikit-learn->sklearn) (1.1.0)\n",
      "Requirement already satisfied: scipy>=1.1.0 in /home/studio-lab-user/.conda/envs/default/lib/python3.9/site-packages (from scikit-learn->sklearn) (1.7.3)\n",
      "Requirement already satisfied: threadpoolctl>=2.0.0 in /home/studio-lab-user/.conda/envs/default/lib/python3.9/site-packages (from scikit-learn->sklearn) (3.1.0)\n",
      "Requirement already satisfied: numpy>=1.14.6 in /home/studio-lab-user/.conda/envs/default/lib/python3.9/site-packages (from scikit-learn->sklearn) (1.21.0)\n",
      "Note: you may need to restart the kernel to use updated packages.\n"
     ]
    }
   ],
   "source": [
    "pip install sklearn"
   ]
  },
  {
   "cell_type": "markdown",
   "id": "0ed5a453-c700-4757-b67b-0b24e61b5e08",
   "metadata": {},
   "source": [
    "testing - data should be * 100 for error being very low - amazon charges me so, we had a small data"
   ]
  },
  {
   "cell_type": "code",
   "execution_count": 102,
   "id": "31cdd2fc-81ed-4b95-b477-21f097591a69",
   "metadata": {},
   "outputs": [
    {
     "name": "stdout",
     "output_type": "stream",
     "text": [
      "Test RSME: 1.4311726447078894\n"
     ]
    }
   ],
   "source": [
    "from sklearn import metrics\n",
    "\n",
    "rmse = np.sqrt(metrics.mean_squared_error(test_pred, test_data['Y'])) \n",
    "print(f\"Test RSME: {rmse}\")"
   ]
  },
  {
   "cell_type": "code",
   "execution_count": null,
   "id": "6c7b2ea4-26fb-413e-88e9-05c1ebde1135",
   "metadata": {},
   "outputs": [],
   "source": []
  },
  {
   "cell_type": "markdown",
   "id": "f0bde499-a8dc-462d-92b3-cbd4d58e177a",
   "metadata": {},
   "source": [
    "CNN"
   ]
  },
  {
   "cell_type": "code",
   "execution_count": null,
   "id": "93c5a5f7-dbe7-4746-a3ec-4d815b50c347",
   "metadata": {},
   "outputs": [],
   "source": []
  },
  {
   "cell_type": "markdown",
   "id": "f905e1f7-f645-4959-977a-95b9c1261df3",
   "metadata": {},
   "source": [
    "Ensemble"
   ]
  },
  {
   "cell_type": "code",
   "execution_count": null,
   "id": "7b6f083e-cf71-442f-88ee-3324797456ee",
   "metadata": {},
   "outputs": [],
   "source": [
    "'''ensembled =  0.5 * np.array(test_pred) + 0.5 * np.array(cnn_test_pred)\n",
    "rmse = np.sqrt(metrics.mean_squared_error(ensembled, test_data['Y'])) \n",
    "print(f\"Test RSME: {rmse}\")'''"
   ]
  },
  {
   "cell_type": "markdown",
   "id": "85f5f9bd-8e54-49cf-808b-c4b8edcda32f",
   "metadata": {},
   "source": [
    "delete all"
   ]
  },
  {
   "cell_type": "code",
   "execution_count": null,
   "id": "cb751de3-3126-4b45-a5e9-328d874f4a6b",
   "metadata": {},
   "outputs": [],
   "source": [
    "linear_predictor.delete_endpoint(delete_endpoint_config=True)\n",
    "bucket_to_delete = boto3.resource('s3').Bucket(bucket_name)\n",
    "bucket_to_delete.objects.all().delete()"
   ]
  },
  {
   "cell_type": "code",
   "execution_count": null,
   "id": "4bd8e8fe-6955-4456-b43b-d087b077df92",
   "metadata": {},
   "outputs": [],
   "source": []
  }
 ],
 "metadata": {
  "kernelspec": {
   "display_name": "default:Python",
   "language": "python",
   "name": "conda-env-default-py"
  },
  "language_info": {
   "codemirror_mode": {
    "name": "ipython",
    "version": 3
   },
   "file_extension": ".py",
   "mimetype": "text/x-python",
   "name": "python",
   "nbconvert_exporter": "python",
   "pygments_lexer": "ipython3",
   "version": "3.9.7"
  }
 },
 "nbformat": 4,
 "nbformat_minor": 5
}
